{
  "nbformat": 4,
  "nbformat_minor": 0,
  "metadata": {
    "colab": {
      "name": "Machine_Translation.ipynb",
      "provenance": []
    },
    "kernelspec": {
      "name": "python3",
      "display_name": "Python 3"
    },
    "language_info": {
      "name": "python"
    },
    "accelerator": "GPU"
  },
  "cells": [
    {
      "cell_type": "code",
      "metadata": {
        "id": "tRu-QR8uewC3"
      },
      "source": [
        "import string\n",
        "import re\n",
        "import numpy as np\n",
        "from numpy import array, argmax, random, take\n",
        "import pandas as pd\n",
        "from keras.models import Sequential\n",
        "from keras.layers import Dense, LSTM, Embedding, RepeatVector\n",
        "from keras.preprocessing.text import Tokenizer\n",
        "from keras.callbacks import ModelCheckpoint\n",
        "from keras.preprocessing.sequence import pad_sequences\n",
        "from keras.models import load_model\n",
        "from keras import optimizers\n",
        "import matplotlib.pyplot as plt\n",
        "%matplotlib inline\n",
        "pd.set_option('display.max_colwidth', 200)"
      ],
      "execution_count": 1,
      "outputs": []
    },
    {
      "cell_type": "code",
      "metadata": {
        "id": "MWQKlWvie2s0"
      },
      "source": [
        "def read_text(filename):\n",
        "        # open the file\n",
        "        file = open(filename, mode='rt', encoding='utf-8')\n",
        "        \n",
        "        # read all text\n",
        "        text = file.read()\n",
        "        file.close()\n",
        "        return text"
      ],
      "execution_count": 2,
      "outputs": []
    },
    {
      "cell_type": "code",
      "metadata": {
        "id": "nk5riEAhfvgE"
      },
      "source": [
        "def to_lines(text):\n",
        "      sents = text.strip().split('\\n')\n",
        "      sents = [i.split('\\t') for i in sents]\n",
        "      return sents"
      ],
      "execution_count": 3,
      "outputs": []
    },
    {
      "cell_type": "code",
      "metadata": {
        "colab": {
          "base_uri": "https://localhost:8080/"
        },
        "id": "egJEO7_Cf8NE",
        "outputId": "16ad413d-874d-4496-cc72-f04e3c65cb9b"
      },
      "source": [
        "data = read_text(\"/content/drive/MyDrive/machine translation/deu.txt\")\n",
        "deu_eng = to_lines(data)\n",
        "deu_eng = array(deu_eng)\n",
        "deu_eng"
      ],
      "execution_count": 9,
      "outputs": [
        {
          "output_type": "execute_result",
          "data": {
            "text/plain": [
              "array([['Go.', 'Geh.',\n",
              "        'CC-BY 2.0 (France) Attribution: tatoeba.org #2877272 (CM) & #8597805 (Roujin)'],\n",
              "       ['Hi.', 'Hallo!',\n",
              "        'CC-BY 2.0 (France) Attribution: tatoeba.org #538123 (CM) & #380701 (cburgmer)'],\n",
              "       ['Hi.', 'Grüß Gott!',\n",
              "        'CC-BY 2.0 (France) Attribution: tatoeba.org #538123 (CM) & #659813 (Esperantostern)'],\n",
              "       ...,\n",
              "       [\"If someone who doesn't know your background says that you sound like a native speaker, it means they probably noticed something about your speaking that made them realize you weren't a native speaker. In other words, you don't really sound like a native speaker.\",\n",
              "        'Wenn jemand Fremdes dir sagt, dass du dich wie ein Muttersprachler anhörst, bedeutet das wahrscheinlich: Er hat etwas an deinem Sprechen bemerkt, dass dich als Nicht-Muttersprachler verraten hat. Mit anderen Worten: Du hörst dich nicht wirklich wie ein Muttersprachler an.',\n",
              "        'CC-BY 2.0 (France) Attribution: tatoeba.org #953936 (CK) & #3807493 (Tickler)'],\n",
              "       [\"If someone who doesn't know your background says that you sound like a native speaker, it means they probably noticed something about your speaking that made them realize you weren't a native speaker. In other words, you don't really sound like a native speaker.\",\n",
              "        'Wenn jemand, der nicht weiß, woher man kommt, sagt, man erwecke doch den Eindruck, Muttersprachler zu sein, so hat man Grund zu der Annahme, dass ihm an der Sprache irgendetwas aufgefallen ist, woran er erkannt hat, dass man eben keiner ist\\xa0– dass man diesen Eindruck mit anderen Worten eigentlich nicht erweckt.',\n",
              "        'CC-BY 2.0 (France) Attribution: tatoeba.org #953936 (CK) & #8836704 (Pfirsichbaeumchen)'],\n",
              "       ['Doubtless there exists in this world precisely the right woman for any given man to marry and vice versa; but when you consider that a human being has the opportunity of being acquainted with only a few hundred people, and out of the few hundred that there are but a dozen or less whom he knows intimately, and out of the dozen, one or two friends at most, it will easily be seen, when we remember the number of millions who inhabit this world, that probably, since the earth was created, the right man has never yet met the right woman.',\n",
              "        'Ohne Zweifel findet sich auf dieser Welt zu jedem Mann genau die richtige Ehefrau und umgekehrt; wenn man jedoch in Betracht zieht, dass ein Mensch nur Gelegenheit hat, mit ein paar hundert anderen bekannt zu sein, von denen ihm nur ein Dutzend oder weniger nahesteht, darunter höchstens ein oder zwei Freunde, dann erahnt man eingedenk der Millionen Einwohner dieser Welt\\xa0leicht, dass seit Erschaffung ebenderselben wohl noch nie der richtige Mann der richtigen Frau begegnet ist.',\n",
              "        'CC-BY 2.0 (France) Attribution: tatoeba.org #7697649 (RM) & #7729416 (Pfirsichbaeumchen)']],\n",
              "      dtype='<U537')"
            ]
          },
          "metadata": {
            "tags": []
          },
          "execution_count": 9
        }
      ]
    },
    {
      "cell_type": "code",
      "metadata": {
        "id": "H4h7VmEDgGLC"
      },
      "source": [
        "deu_eng = deu_eng[:50000,:2]"
      ],
      "execution_count": 10,
      "outputs": []
    },
    {
      "cell_type": "code",
      "metadata": {
        "colab": {
          "base_uri": "https://localhost:8080/"
        },
        "id": "j07Qw6Lpgr3x",
        "outputId": "63e7026d-19bd-40d6-ba1a-b80e835340ab"
      },
      "source": [
        "deu_eng"
      ],
      "execution_count": 11,
      "outputs": [
        {
          "output_type": "execute_result",
          "data": {
            "text/plain": [
              "array([['Go.', 'Geh.'],\n",
              "       ['Hi.', 'Hallo!'],\n",
              "       ['Hi.', 'Grüß Gott!'],\n",
              "       ...,\n",
              "       [\"I'm giving up smoking.\", 'Ich höre mit dem Rauchen auf.'],\n",
              "       [\"I'm glad I was nearby.\",\n",
              "        'Ich bin froh, dass ich in der Nähe war.'],\n",
              "       [\"I'm glad Tom has gone.\", 'Ich bin froh, dass Tom weg ist.']],\n",
              "      dtype='<U537')"
            ]
          },
          "metadata": {
            "tags": []
          },
          "execution_count": 11
        }
      ]
    },
    {
      "cell_type": "code",
      "metadata": {
        "colab": {
          "base_uri": "https://localhost:8080/"
        },
        "id": "JPfLIi7Rg22r",
        "outputId": "1b964ad4-cadf-4608-8a91-e436b4d421ec"
      },
      "source": [
        "deu_eng[:,0] = [s.translate(str.maketrans('', '', string.punctuation)) for s in deu_eng[:,0]]\n",
        "deu_eng[:,1] = [s.translate(str.maketrans('', '', string.punctuation)) for s in deu_eng[:,1]]\n",
        "\n",
        "deu_eng"
      ],
      "execution_count": 12,
      "outputs": [
        {
          "output_type": "execute_result",
          "data": {
            "text/plain": [
              "array([['Go', 'Geh'],\n",
              "       ['Hi', 'Hallo'],\n",
              "       ['Hi', 'Grüß Gott'],\n",
              "       ...,\n",
              "       ['Im giving up smoking', 'Ich höre mit dem Rauchen auf'],\n",
              "       ['Im glad I was nearby', 'Ich bin froh dass ich in der Nähe war'],\n",
              "       ['Im glad Tom has gone', 'Ich bin froh dass Tom weg ist']],\n",
              "      dtype='<U537')"
            ]
          },
          "metadata": {
            "tags": []
          },
          "execution_count": 12
        }
      ]
    },
    {
      "cell_type": "code",
      "metadata": {
        "colab": {
          "base_uri": "https://localhost:8080/"
        },
        "id": "Iz2OnLDZhTq_",
        "outputId": "6cb1ec72-480f-4485-ae9e-206c2a98c2c1"
      },
      "source": [
        "for i in range(len(deu_eng)):\n",
        "    deu_eng[i,0] = deu_eng[i,0].lower()\n",
        "    deu_eng[i,1] = deu_eng[i,1].lower()\n",
        "\n",
        "deu_eng"
      ],
      "execution_count": 13,
      "outputs": [
        {
          "output_type": "execute_result",
          "data": {
            "text/plain": [
              "array([['go', 'geh'],\n",
              "       ['hi', 'hallo'],\n",
              "       ['hi', 'grüß gott'],\n",
              "       ...,\n",
              "       ['im giving up smoking', 'ich höre mit dem rauchen auf'],\n",
              "       ['im glad i was nearby', 'ich bin froh dass ich in der nähe war'],\n",
              "       ['im glad tom has gone', 'ich bin froh dass tom weg ist']],\n",
              "      dtype='<U537')"
            ]
          },
          "metadata": {
            "tags": []
          },
          "execution_count": 13
        }
      ]
    },
    {
      "cell_type": "code",
      "metadata": {
        "colab": {
          "base_uri": "https://localhost:8080/",
          "height": 281
        },
        "id": "rGH6_sn0h3Yj",
        "outputId": "0ee900fb-d130-4805-a323-01ed5de662d7"
      },
      "source": [
        "eng_l = []\n",
        "deu_l = []\n",
        "\n",
        "# populate the lists with sentence lengths\n",
        "for i in deu_eng[:,0]:\n",
        "      eng_l.append(len(i.split()))\n",
        "\n",
        "for i in deu_eng[:,1]:\n",
        "      deu_l.append(len(i.split()))\n",
        "\n",
        "length_df = pd.DataFrame({'eng':eng_l, 'deu':deu_l})\n",
        "\n",
        "length_df.hist(bins = 30)\n",
        "plt.show()"
      ],
      "execution_count": 14,
      "outputs": [
        {
          "output_type": "display_data",
          "data": {
            "image/png": "[encoded data removed]",
            "text/plain": [
              "<Figure size 432x288 with 2 Axes>"
            ]
          },
          "metadata": {
            "tags": [],
            "needs_background": "light"
          }
        }
      ]
    },
    {
      "cell_type": "code",
      "metadata": {
        "colab": {
          "base_uri": "https://localhost:8080/"
        },
        "id": "IXSvXB7UiIXs",
        "outputId": "9b8de45f-8bbd-41f4-c970-d431b277f2e7"
      },
      "source": [
        "np.max(eng_l), np.max(deu_l)"
      ],
      "execution_count": 16,
      "outputs": [
        {
          "output_type": "execute_result",
          "data": {
            "text/plain": [
              "(7, 15)"
            ]
          },
          "metadata": {
            "tags": []
          },
          "execution_count": 16
        }
      ]
    },
    {
      "cell_type": "code",
      "metadata": {
        "id": "a_P1yun2ibMD"
      },
      "source": [
        "def tokenization(lines):\n",
        "      tokenizer = Tokenizer()\n",
        "      tokenizer.fit_on_texts(lines)\n",
        "      return tokenizer"
      ],
      "execution_count": 17,
      "outputs": []
    },
    {
      "cell_type": "code",
      "metadata": {
        "colab": {
          "base_uri": "https://localhost:8080/"
        },
        "id": "i5GRPAbAio9t",
        "outputId": "1689338b-90fc-494a-a74b-f3b48e097ea5"
      },
      "source": [
        "eng_tokenizer = tokenization(deu_eng[:, 0])\n",
        "eng_vocab_size = len(eng_tokenizer.word_index) + 1\n",
        "\n",
        "eng_length = 8\n",
        "print('English Vocabulary Size: %d' % eng_vocab_size)"
      ],
      "execution_count": 22,
      "outputs": [
        {
          "output_type": "stream",
          "text": [
            "English Vocabulary Size: 6256\n"
          ],
          "name": "stdout"
        }
      ]
    },
    {
      "cell_type": "code",
      "metadata": {
        "colab": {
          "base_uri": "https://localhost:8080/"
        },
        "id": "Um7pqqlXi311",
        "outputId": "a021a89a-0786-426a-fe93-dc000fd21414"
      },
      "source": [
        "eng_tokenizer.word_index"
      ],
      "execution_count": 19,
      "outputs": [
        {
          "output_type": "execute_result",
          "data": {
            "text/plain": [
              "{'tom': 1,\n",
              " 'i': 2,\n",
              " 'you': 3,\n",
              " 'is': 4,\n",
              " 'a': 5,\n",
              " 'it': 6,\n",
              " 'the': 7,\n",
              " 'to': 8,\n",
              " 'me': 9,\n",
              " 'im': 10,\n",
              " 'he': 11,\n",
              " 'do': 12,\n",
              " 'that': 13,\n",
              " 'was': 14,\n",
              " 'this': 15,\n",
              " 'my': 16,\n",
              " 'are': 17,\n",
              " 'we': 18,\n",
              " 'dont': 19,\n",
              " 'have': 20,\n",
              " 'your': 21,\n",
              " 'did': 22,\n",
              " 'like': 23,\n",
              " 'its': 24,\n",
              " 'can': 25,\n",
              " 'youre': 26,\n",
              " 'not': 27,\n",
              " 'be': 28,\n",
              " 'go': 29,\n",
              " 'in': 30,\n",
              " 'what': 31,\n",
              " 'were': 32,\n",
              " 'here': 33,\n",
              " 'she': 34,\n",
              " 'know': 35,\n",
              " 'they': 36,\n",
              " 'ill': 37,\n",
              " 'want': 38,\n",
              " 'very': 39,\n",
              " 'now': 40,\n",
              " 'how': 41,\n",
              " 'on': 42,\n",
              " 'cant': 43,\n",
              " 'has': 44,\n",
              " 'up': 45,\n",
              " 'for': 46,\n",
              " 'get': 47,\n",
              " 'thats': 48,\n",
              " 'need': 49,\n",
              " 'no': 50,\n",
              " 'at': 51,\n",
              " 'toms': 52,\n",
              " 'come': 53,\n",
              " 'isnt': 54,\n",
              " 'of': 55,\n",
              " 'why': 56,\n",
              " 'him': 57,\n",
              " 'good': 58,\n",
              " 'who': 59,\n",
              " 'help': 60,\n",
              " 'one': 61,\n",
              " 'out': 62,\n",
              " 'will': 63,\n",
              " 'his': 64,\n",
              " 'us': 65,\n",
              " 'too': 66,\n",
              " 'all': 67,\n",
              " 'please': 68,\n",
              " 'just': 69,\n",
              " 'love': 70,\n",
              " 'there': 71,\n",
              " 'got': 72,\n",
              " 'home': 73,\n",
              " 'well': 74,\n",
              " 'with': 75,\n",
              " 'didnt': 76,\n",
              " 'see': 77,\n",
              " 'mary': 78,\n",
              " 'am': 79,\n",
              " 'stop': 80,\n",
              " 'hes': 81,\n",
              " 'look': 82,\n",
              " 'car': 83,\n",
              " 'take': 84,\n",
              " 'an': 85,\n",
              " 'never': 86,\n",
              " 'her': 87,\n",
              " 'think': 88,\n",
              " 'really': 89,\n",
              " 'where': 90,\n",
              " 'so': 91,\n",
              " 'give': 92,\n",
              " 'lets': 93,\n",
              " 'back': 94,\n",
              " 'let': 95,\n",
              " 'work': 96,\n",
              " 'may': 97,\n",
              " 'had': 98,\n",
              " 'made': 99,\n",
              " 'does': 100,\n",
              " 'eat': 101,\n",
              " 'must': 102,\n",
              " 'wont': 103,\n",
              " 'saw': 104,\n",
              " 'whats': 105,\n",
              " 'tell': 106,\n",
              " 'about': 107,\n",
              " 'try': 108,\n",
              " 'ive': 109,\n",
              " 'theyre': 110,\n",
              " 'money': 111,\n",
              " 'still': 112,\n",
              " 'again': 113,\n",
              " 'dog': 114,\n",
              " 'happy': 115,\n",
              " 'likes': 116,\n",
              " 'lost': 117,\n",
              " 'book': 118,\n",
              " 'wasnt': 119,\n",
              " 'right': 120,\n",
              " 'time': 121,\n",
              " 'leave': 122,\n",
              " 'off': 123,\n",
              " 'busy': 124,\n",
              " 'say': 125,\n",
              " 'away': 126,\n",
              " 'call': 127,\n",
              " 'down': 128,\n",
              " 'them': 129,\n",
              " 'going': 130,\n",
              " 'looks': 131,\n",
              " 'went': 132,\n",
              " 'keep': 133,\n",
              " 'lot': 134,\n",
              " 'bad': 135,\n",
              " 'and': 136,\n",
              " 'should': 137,\n",
              " 'today': 138,\n",
              " 'wheres': 139,\n",
              " 'make': 140,\n",
              " 'much': 141,\n",
              " 'wait': 142,\n",
              " 'came': 143,\n",
              " 'new': 144,\n",
              " 'some': 145,\n",
              " 'could': 146,\n",
              " 'big': 147,\n",
              " 'feel': 148,\n",
              " 'job': 149,\n",
              " 'alone': 150,\n",
              " 'our': 151,\n",
              " 'cold': 152,\n",
              " 'hate': 153,\n",
              " 'stay': 154,\n",
              " 'read': 155,\n",
              " 'ask': 156,\n",
              " 'old': 157,\n",
              " 'gave': 158,\n",
              " 'id': 159,\n",
              " 'always': 160,\n",
              " 'find': 161,\n",
              " 'said': 162,\n",
              " 'knew': 163,\n",
              " 'over': 164,\n",
              " 'talk': 165,\n",
              " 'arent': 166,\n",
              " 'tired': 167,\n",
              " 'nobody': 168,\n",
              " 'knows': 169,\n",
              " 'hope': 170,\n",
              " 'loves': 171,\n",
              " 'hurt': 172,\n",
              " 'man': 173,\n",
              " 'miss': 174,\n",
              " 'drink': 175,\n",
              " 'everyone': 176,\n",
              " 'ok': 177,\n",
              " 'room': 178,\n",
              " 'late': 179,\n",
              " 'open': 180,\n",
              " 'put': 181,\n",
              " 'play': 182,\n",
              " 'hard': 183,\n",
              " 'found': 184,\n",
              " 'live': 185,\n",
              " 'french': 186,\n",
              " 'fast': 187,\n",
              " 'boston': 188,\n",
              " 'watch': 189,\n",
              " 'ready': 190,\n",
              " 'looked': 191,\n",
              " 'nice': 192,\n",
              " 'left': 193,\n",
              " 'more': 194,\n",
              " 'when': 195,\n",
              " 'wrong': 196,\n",
              " 'coming': 197,\n",
              " 'seems': 198,\n",
              " 'day': 199,\n",
              " 'fun': 200,\n",
              " 'these': 201,\n",
              " 'wants': 202,\n",
              " 'took': 203,\n",
              " 'ran': 204,\n",
              " 'house': 205,\n",
              " 'shes': 206,\n",
              " 'hungry': 207,\n",
              " 'door': 208,\n",
              " 'yet': 209,\n",
              " 'way': 210,\n",
              " 'buy': 211,\n",
              " 'doing': 212,\n",
              " 'true': 213,\n",
              " 'great': 214,\n",
              " 'from': 215,\n",
              " 'would': 216,\n",
              " 'sick': 217,\n",
              " 'told': 218,\n",
              " 'already': 219,\n",
              " 'whos': 220,\n",
              " 'nothing': 221,\n",
              " 'doesnt': 222,\n",
              " 'yours': 223,\n",
              " 'only': 224,\n",
              " 'felt': 225,\n",
              " 'by': 226,\n",
              " 'speak': 227,\n",
              " 'angry': 228,\n",
              " 'turn': 229,\n",
              " 'bought': 230,\n",
              " 'use': 231,\n",
              " 'youll': 232,\n",
              " 'long': 233,\n",
              " 'heard': 234,\n",
              " 'everybody': 235,\n",
              " 'died': 236,\n",
              " 'life': 237,\n",
              " 'fine': 238,\n",
              " 'as': 239,\n",
              " 'cat': 240,\n",
              " 'hot': 241,\n",
              " 'tv': 242,\n",
              " 'better': 243,\n",
              " 'school': 244,\n",
              " 'been': 245,\n",
              " 'swim': 246,\n",
              " 'something': 247,\n",
              " 'hair': 248,\n",
              " 'sure': 249,\n",
              " 'early': 250,\n",
              " 'boy': 251,\n",
              " 'met': 252,\n",
              " 'mine': 253,\n",
              " 'youve': 254,\n",
              " 'father': 255,\n",
              " 'tried': 256,\n",
              " 'broke': 257,\n",
              " 'mean': 258,\n",
              " 'soon': 259,\n",
              " 'lie': 260,\n",
              " 'sing': 261,\n",
              " 'wanted': 262,\n",
              " 'bed': 263,\n",
              " 'almost': 264,\n",
              " 'water': 265,\n",
              " 'rich': 266,\n",
              " 'bit': 267,\n",
              " 'needs': 268,\n",
              " 'eyes': 269,\n",
              " 'pay': 270,\n",
              " 'beer': 271,\n",
              " 'win': 272,\n",
              " 'called': 273,\n",
              " 'believe': 274,\n",
              " 'listen': 275,\n",
              " 'walk': 276,\n",
              " 'kept': 277,\n",
              " 'run': 278,\n",
              " 'trust': 279,\n",
              " 'friend': 280,\n",
              " 'friends': 281,\n",
              " 'idea': 282,\n",
              " 'name': 283,\n",
              " 'show': 284,\n",
              " 'ate': 285,\n",
              " 'afraid': 286,\n",
              " 'sleep': 287,\n",
              " 'quite': 288,\n",
              " 'red': 289,\n",
              " 'everything': 290,\n",
              " 'drunk': 291,\n",
              " 'wish': 292,\n",
              " 'tomorrow': 293,\n",
              " 'hear': 294,\n",
              " 'fish': 295,\n",
              " 'two': 296,\n",
              " 'hit': 297,\n",
              " 'mad': 298,\n",
              " 'bring': 299,\n",
              " 'books': 300,\n",
              " 'any': 301,\n",
              " 'coffee': 302,\n",
              " 'lives': 303,\n",
              " 'hurry': 304,\n",
              " 'won': 305,\n",
              " 'gone': 306,\n",
              " 'study': 307,\n",
              " 'family': 308,\n",
              " 'drive': 309,\n",
              " 'works': 310,\n",
              " 'answer': 311,\n",
              " 'cry': 312,\n",
              " 'done': 313,\n",
              " 'hat': 314,\n",
              " 'those': 315,\n",
              " 'watching': 316,\n",
              " 'three': 317,\n",
              " 'safe': 318,\n",
              " 'yourself': 319,\n",
              " 'crying': 320,\n",
              " 'anything': 321,\n",
              " 'dead': 322,\n",
              " 'forget': 323,\n",
              " 'weve': 324,\n",
              " 'bus': 325,\n",
              " 'started': 326,\n",
              " 'food': 327,\n",
              " 'often': 328,\n",
              " 'plan': 329,\n",
              " 'stopped': 330,\n",
              " 'quiet': 331,\n",
              " 'owe': 332,\n",
              " 'stupid': 333,\n",
              " 'both': 334,\n",
              " 'getting': 335,\n",
              " 'whose': 336,\n",
              " 'phone': 337,\n",
              " 'sorry': 338,\n",
              " 'easy': 339,\n",
              " 'start': 340,\n",
              " 'married': 341,\n",
              " 'enough': 342,\n",
              " 'working': 343,\n",
              " 'wife': 344,\n",
              " 'sad': 345,\n",
              " 'tea': 346,\n",
              " 'sit': 347,\n",
              " 'crazy': 348,\n",
              " 'night': 349,\n",
              " 'next': 350,\n",
              " 'die': 351,\n",
              " 'lying': 352,\n",
              " 'sat': 353,\n",
              " 'might': 354,\n",
              " 'seen': 355,\n",
              " 'wrote': 356,\n",
              " 'follow': 357,\n",
              " 'changed': 358,\n",
              " 'cook': 359,\n",
              " 'upset': 360,\n",
              " 'asked': 361,\n",
              " 'hates': 362,\n",
              " 'enjoy': 363,\n",
              " 'understand': 364,\n",
              " 'people': 365,\n",
              " 'change': 366,\n",
              " 'little': 367,\n",
              " 'free': 368,\n",
              " 'first': 369,\n",
              " 'asleep': 370,\n",
              " 'milk': 371,\n",
              " 'became': 372,\n",
              " 'seemed': 373,\n",
              " 'kids': 374,\n",
              " 'outside': 375,\n",
              " 'happened': 376,\n",
              " 'shoes': 377,\n",
              " 'stand': 378,\n",
              " 'hands': 379,\n",
              " 'once': 380,\n",
              " 'meet': 381,\n",
              " 'pretty': 382,\n",
              " 'remember': 383,\n",
              " 'eating': 384,\n",
              " 'theres': 385,\n",
              " 'happen': 386,\n",
              " 'teacher': 387,\n",
              " 'kiss': 388,\n",
              " 'check': 389,\n",
              " 'loved': 390,\n",
              " 'problem': 391,\n",
              " 'joke': 392,\n",
              " 'key': 393,\n",
              " 'used': 394,\n",
              " 'kind': 395,\n",
              " 'hold': 396,\n",
              " 'tall': 397,\n",
              " 'touch': 398,\n",
              " 'heres': 399,\n",
              " 'young': 400,\n",
              " 'lunch': 401,\n",
              " 'doctor': 402,\n",
              " 'running': 403,\n",
              " 'fell': 404,\n",
              " 'agree': 405,\n",
              " 'shot': 406,\n",
              " 'scared': 407,\n",
              " 'mind': 408,\n",
              " 'even': 409,\n",
              " 'nervous': 410,\n",
              " 'many': 411,\n",
              " 'best': 412,\n",
              " 'reading': 413,\n",
              " 'caught': 414,\n",
              " 'couldnt': 415,\n",
              " 'lied': 416,\n",
              " 'began': 417,\n",
              " 'close': 418,\n",
              " 'cats': 419,\n",
              " 'hand': 420,\n",
              " 'looking': 421,\n",
              " 'thanks': 422,\n",
              " 'wine': 423,\n",
              " 'missed': 424,\n",
              " 'quickly': 425,\n",
              " 'singing': 426,\n",
              " 'son': 427,\n",
              " 'being': 428,\n",
              " 'quit': 429,\n",
              " 'kill': 430,\n",
              " 'dogs': 431,\n",
              " 'anyone': 432,\n",
              " 'liked': 433,\n",
              " 'brother': 434,\n",
              " 'sister': 435,\n",
              " 'fire': 436,\n",
              " 'helped': 437,\n",
              " 'dark': 438,\n",
              " 'break': 439,\n",
              " 'funny': 440,\n",
              " 'sweet': 441,\n",
              " 'dinner': 442,\n",
              " 'arrived': 443,\n",
              " 'move': 444,\n",
              " 'serious': 445,\n",
              " 'itll': 446,\n",
              " 'glad': 447,\n",
              " 'later': 448,\n",
              " 'which': 449,\n",
              " 'turned': 450,\n",
              " 'inside': 451,\n",
              " 'laughed': 452,\n",
              " 'lawyer': 453,\n",
              " 'rest': 454,\n",
              " 'shut': 455,\n",
              " 'around': 456,\n",
              " 'careful': 457,\n",
              " 'hows': 458,\n",
              " 'small': 459,\n",
              " 'else': 460,\n",
              " 'care': 461,\n",
              " 'paid': 462,\n",
              " 'hurts': 463,\n",
              " 'thank': 464,\n",
              " 'last': 465,\n",
              " 'mother': 466,\n",
              " 'yesterday': 467,\n",
              " 'awake': 468,\n",
              " 'seat': 469,\n",
              " 'black': 470,\n",
              " 'worried': 471,\n",
              " 'guys': 472,\n",
              " 'word': 473,\n",
              " 'maybe': 474,\n",
              " 'into': 475,\n",
              " 'keys': 476,\n",
              " 'born': 477,\n",
              " 'anybody': 478,\n",
              " 'bag': 479,\n",
              " 'talking': 480,\n",
              " 'dance': 481,\n",
              " 'after': 482,\n",
              " 'story': 483,\n",
              " 'cool': 484,\n",
              " 'fat': 485,\n",
              " 'write': 486,\n",
              " 'bored': 487,\n",
              " 'walked': 488,\n",
              " 'bet': 489,\n",
              " 'english': 490,\n",
              " 'ones': 491,\n",
              " 'youd': 492,\n",
              " 'perfect': 493,\n",
              " 'face': 494,\n",
              " 'myself': 495,\n",
              " 'thought': 496,\n",
              " 'horse': 497,\n",
              " 'yes': 498,\n",
              " 'guess': 499,\n",
              " 'cut': 500,\n",
              " 'hey': 501,\n",
              " 'dream': 502,\n",
              " 'fault': 503,\n",
              " 'truth': 504,\n",
              " 'cannot': 505,\n",
              " 'confused': 506,\n",
              " 'sounds': 507,\n",
              " 'killed': 508,\n",
              " 'real': 509,\n",
              " 'spoke': 510,\n",
              " 'far': 511,\n",
              " 'worked': 512,\n",
              " 'girl': 513,\n",
              " 'simple': 514,\n",
              " 'lose': 515,\n",
              " 'another': 516,\n",
              " 'short': 517,\n",
              " 'glasses': 518,\n",
              " 'head': 519,\n",
              " 'smart': 520,\n",
              " 'music': 521,\n",
              " 'own': 522,\n",
              " 'says': 523,\n",
              " 'heart': 524,\n",
              " 'beat': 525,\n",
              " 'clean': 526,\n",
              " 'smoke': 527,\n",
              " 'someone': 528,\n",
              " 'theyll': 529,\n",
              " 'closed': 530,\n",
              " 'dirty': 531,\n",
              " 'mom': 532,\n",
              " 'student': 533,\n",
              " 'news': 534,\n",
              " 'children': 535,\n",
              " 'smiled': 536,\n",
              " 'sign': 537,\n",
              " 'poor': 538,\n",
              " 'jealous': 539,\n",
              " 'thirsty': 540,\n",
              " 'joking': 541,\n",
              " 'makes': 542,\n",
              " 'stayed': 543,\n",
              " 'calm': 544,\n",
              " 'bread': 545,\n",
              " 'cake': 546,\n",
              " 'pen': 547,\n",
              " 'canadian': 548,\n",
              " 'finished': 549,\n",
              " 'order': 550,\n",
              " 'box': 551,\n",
              " 'every': 552,\n",
              " 'person': 553,\n",
              " 'fair': 554,\n",
              " 'cried': 555,\n",
              " 'shy': 556,\n",
              " 'cute': 557,\n",
              " 'meat': 558,\n",
              " 'lonely': 559,\n",
              " 'snow': 560,\n",
              " 'sleeping': 561,\n",
              " 'needed': 562,\n",
              " 'apple': 563,\n",
              " 'guy': 564,\n",
              " 'himself': 565,\n",
              " 'dying': 566,\n",
              " 'stood': 567,\n",
              " 'white': 568,\n",
              " 'kidding': 569,\n",
              " 'count': 570,\n",
              " 'blame': 571,\n",
              " 'lucky': 572,\n",
              " 'boss': 573,\n",
              " 'or': 574,\n",
              " 'tennis': 575,\n",
              " 'bike': 576,\n",
              " 'light': 577,\n",
              " 'than': 578,\n",
              " 'ever': 579,\n",
              " 'bicycle': 580,\n",
              " 'brave': 581,\n",
              " 'full': 582,\n",
              " 'slept': 583,\n",
              " 'fired': 584,\n",
              " 'alive': 585,\n",
              " 'strong': 586,\n",
              " 'broken': 587,\n",
              " 'secret': 588,\n",
              " 'pizza': 589,\n",
              " 'things': 590,\n",
              " 'throw': 591,\n",
              " 'seem': 592,\n",
              " 'fix': 593,\n",
              " 'lazy': 594,\n",
              " 'forgot': 595,\n",
              " 'men': 596,\n",
              " 'liar': 597,\n",
              " 'child': 598,\n",
              " 'monday': 599,\n",
              " 'writing': 600,\n",
              " 'honest': 601,\n",
              " 'knife': 602,\n",
              " 'somebody': 603,\n",
              " 'week': 604,\n",
              " 'thing': 605,\n",
              " 'ice': 606,\n",
              " 'sleepy': 607,\n",
              " 'opened': 608,\n",
              " 'table': 609,\n",
              " 'trouble': 610,\n",
              " 'wake': 611,\n",
              " 'catch': 612,\n",
              " 'waited': 613,\n",
              " 'ugly': 614,\n",
              " 'boring': 615,\n",
              " 'pick': 616,\n",
              " 'saved': 617,\n",
              " 'gets': 618,\n",
              " 'girls': 619,\n",
              " 'explain': 620,\n",
              " 'feet': 621,\n",
              " 'japanese': 622,\n",
              " 'laughing': 623,\n",
              " 'wear': 624,\n",
              " 'wouldnt': 625,\n",
              " 'fly': 626,\n",
              " 'talked': 627,\n",
              " 'drives': 628,\n",
              " 'age': 629,\n",
              " 'blue': 630,\n",
              " 'rain': 631,\n",
              " 'send': 632,\n",
              " 'kissed': 633,\n",
              " 'correct': 634,\n",
              " 'park': 635,\n",
              " 'song': 636,\n",
              " 'betrayed': 637,\n",
              " 'behind': 638,\n",
              " 'excited': 639,\n",
              " 'taking': 640,\n",
              " 'legs': 641,\n",
              " 'question': 642,\n",
              " 'shoot': 643,\n",
              " 'hug': 644,\n",
              " 'sang': 645,\n",
              " 'ahead': 646,\n",
              " 'weak': 647,\n",
              " 'failed': 648,\n",
              " 'harder': 649,\n",
              " 'war': 650,\n",
              " 'strange': 651,\n",
              " 'pain': 652,\n",
              " 'woman': 653,\n",
              " 'second': 654,\n",
              " 'rules': 655,\n",
              " 'picture': 656,\n",
              " 'train': 657,\n",
              " 'taxi': 658,\n",
              " 'decision': 659,\n",
              " 'longer': 660,\n",
              " 'boys': 661,\n",
              " 'laugh': 662,\n",
              " 'curious': 663,\n",
              " 'apples': 664,\n",
              " 'coat': 665,\n",
              " 'trusted': 666,\n",
              " 'whatll': 667,\n",
              " 'advice': 668,\n",
              " 'playing': 669,\n",
              " 'tie': 670,\n",
              " 'havent': 671,\n",
              " 'letter': 672,\n",
              " 'tonight': 673,\n",
              " 'voice': 674,\n",
              " 'wearing': 675,\n",
              " 'wet': 676,\n",
              " 'welcome': 677,\n",
              " 'warm': 678,\n",
              " 'patient': 679,\n",
              " 'drank': 680,\n",
              " 'thirty': 681,\n",
              " 'smell': 682,\n",
              " 'eggs': 683,\n",
              " 'leaving': 684,\n",
              " 'sent': 685,\n",
              " 'invited': 686,\n",
              " 'gun': 687,\n",
              " 'empty': 688,\n",
              " 'arm': 689,\n",
              " 'meant': 690,\n",
              " 'together': 691,\n",
              " 'normal': 692,\n",
              " 'parents': 693,\n",
              " 'fishing': 694,\n",
              " 'golf': 695,\n",
              " 'making': 696,\n",
              " 'such': 697,\n",
              " 'badly': 698,\n",
              " 'window': 699,\n",
              " '230': 700,\n",
              " 'speaks': 701,\n",
              " 'driver': 702,\n",
              " 'deep': 703,\n",
              " 'warn': 704,\n",
              " 'god': 705,\n",
              " 'dad': 706,\n",
              " 'upstairs': 707,\n",
              " 'smoking': 708,\n",
              " 'nose': 709,\n",
              " 'danger': 710,\n",
              " 'listening': 711,\n",
              " 'surprised': 712,\n",
              " 'six': 713,\n",
              " 'ball': 714,\n",
              " 'truck': 715,\n",
              " 'party': 716,\n",
              " 'movie': 717,\n",
              " 'sound': 718,\n",
              " 'shirt': 719,\n",
              " 'begin': 720,\n",
              " 'wash': 721,\n",
              " 'tomll': 722,\n",
              " 'fit': 723,\n",
              " 'worry': 724,\n",
              " 'watched': 725,\n",
              " 'map': 726,\n",
              " 'studying': 727,\n",
              " 'downstairs': 728,\n",
              " 'comes': 729,\n",
              " 'beautiful': 730,\n",
              " 'important': 731,\n",
              " 'worse': 732,\n",
              " 'believed': 733,\n",
              " 'pleased': 734,\n",
              " 'waiting': 735,\n",
              " 'if': 736,\n",
              " 'same': 737,\n",
              " 'place': 738,\n",
              " 'choice': 739,\n",
              " 'mistake': 740,\n",
              " 'before': 741,\n",
              " 'smile': 742,\n",
              " 'save': 743,\n",
              " 'blind': 744,\n",
              " 'step': 745,\n",
              " 'along': 746,\n",
              " 'eaten': 747,\n",
              " 'contact': 748,\n",
              " 'deny': 749,\n",
              " 'learn': 750,\n",
              " 'possible': 751,\n",
              " 'cup': 752,\n",
              " 'baby': 753,\n",
              " 'desk': 754,\n",
              " 'bill': 755,\n",
              " 'swimming': 756,\n",
              " 'believes': 757,\n",
              " 'drove': 758,\n",
              " 'game': 759,\n",
              " 'cheated': 760,\n",
              " 'tough': 761,\n",
              " 'ours': 762,\n",
              " 'moved': 763,\n",
              " 'slowly': 764,\n",
              " 'forgive': 765,\n",
              " 'vote': 766,\n",
              " 'winning': 767,\n",
              " 'dress': 768,\n",
              " 'kid': 769,\n",
              " 'expert': 770,\n",
              " 'cooking': 771,\n",
              " 'death': 772,\n",
              " 'worth': 773,\n",
              " 'brothers': 774,\n",
              " 'afford': 775,\n",
              " 'camera': 776,\n",
              " 'terrible': 777,\n",
              " 'pencil': 778,\n",
              " 'bank': 779,\n",
              " 'promise': 780,\n",
              " 'woke': 781,\n",
              " 'duty': 782,\n",
              " 'air': 783,\n",
              " 'famous': 784,\n",
              " 'math': 785,\n",
              " 'naive': 786,\n",
              " 'dancing': 787,\n",
              " 'talks': 788,\n",
              " 'shall': 789,\n",
              " 'stole': 790,\n",
              " 'half': 791,\n",
              " 'jokes': 792,\n",
              " 'rarely': 793,\n",
              " 'sell': 794,\n",
              " 'bird': 795,\n",
              " 'pale': 796,\n",
              " 'minute': 797,\n",
              " 'succeed': 798,\n",
              " 'enjoyed': 799,\n",
              " 'everyones': 800,\n",
              " 'feeling': 801,\n",
              " 'marys': 802,\n",
              " 'whatre': 803,\n",
              " 'other': 804,\n",
              " 'hi': 805,\n",
              " 'goodbye': 806,\n",
              " 'weird': 807,\n",
              " 'luck': 808,\n",
              " 'return': 809,\n",
              " 'bath': 810,\n",
              " 'slow': 811,\n",
              " 'prefer': 812,\n",
              " 'guilty': 813,\n",
              " 'boat': 814,\n",
              " 'horses': 815,\n",
              " 'artist': 816,\n",
              " 'missing': 817,\n",
              " 'enemy': 818,\n",
              " 'city': 819,\n",
              " 'their': 820,\n",
              " 'barely': 821,\n",
              " 'removed': 822,\n",
              " 'soccer': 823,\n",
              " 'expect': 824,\n",
              " 'cheap': 825,\n",
              " 'message': 826,\n",
              " 'breakfast': 827,\n",
              " 'hardly': 828,\n",
              " 'mood': 829,\n",
              " 'rude': 830,\n",
              " 'resign': 831,\n",
              " 'dry': 832,\n",
              " 'agreed': 833,\n",
              " 'clever': 834,\n",
              " 'rice': 835,\n",
              " 'hated': 836,\n",
              " 'cash': 837,\n",
              " 'hugged': 838,\n",
              " 'noticed': 839,\n",
              " 'seldom': 840,\n",
              " 'snowing': 841,\n",
              " 'chess': 842,\n",
              " 'smells': 843,\n",
              " 'hide': 844,\n",
              " 'warned': 845,\n",
              " 'diary': 846,\n",
              " 'plays': 847,\n",
              " 'trip': 848,\n",
              " 'weight': 849,\n",
              " 'drop': 850,\n",
              " 'then': 851,\n",
              " 'hero': 852,\n",
              " 'losing': 853,\n",
              " 'green': 854,\n",
              " 'thatll': 855,\n",
              " 'closer': 856,\n",
              " 'fight': 857,\n",
              " 'shocked': 858,\n",
              " 'locked': 859,\n",
              " 'team': 860,\n",
              " 'ten': 861,\n",
              " 'women': 862,\n",
              " 'piano': 863,\n",
              " 'coward': 864,\n",
              " 'raining': 865,\n",
              " 'answered': 866,\n",
              " 'few': 867,\n",
              " 'fed': 868,\n",
              " 'saying': 869,\n",
              " 'moment': 870,\n",
              " 'tree': 871,\n",
              " 'raised': 872,\n",
              " 'polite': 873,\n",
              " 'also': 874,\n",
              " 'accept': 875,\n",
              " 'bananas': 876,\n",
              " 'handle': 877,\n",
              " 'summer': 878,\n",
              " 'noise': 879,\n",
              " 'wore': 880,\n",
              " 'near': 881,\n",
              " 'brought': 882,\n",
              " 'computer': 883,\n",
              " 'under': 884,\n",
              " 'proud': 885,\n",
              " 'expensive': 886,\n",
              " 'relax': 887,\n",
              " 'runs': 888,\n",
              " 'helps': 889,\n",
              " 'approve': 890,\n",
              " 'jump': 891,\n",
              " 'scream': 892,\n",
              " 'trying': 893,\n",
              " 'list': 894,\n",
              " 'nuts': 895,\n",
              " 'admire': 896,\n",
              " 'deserve': 897,\n",
              " 'cab': 898,\n",
              " 'fool': 899,\n",
              " 'fighting': 900,\n",
              " 'driving': 901,\n",
              " 'set': 902,\n",
              " 'scare': 903,\n",
              " 'flowers': 904,\n",
              " 'impressed': 905,\n",
              " 'end': 906,\n",
              " 'cousins': 907,\n",
              " 'point': 908,\n",
              " 'high': 909,\n",
              " 'interested': 910,\n",
              " 'sense': 911,\n",
              " 'hour': 912,\n",
              " 'exam': 913,\n",
              " 'regret': 914,\n",
              " 'protect': 915,\n",
              " 'disappointed': 916,\n",
              " 'probably': 917,\n",
              " 'address': 918,\n",
              " 'clothes': 919,\n",
              " 'join': 920,\n",
              " 'retired': 921,\n",
              " 'ignore': 922,\n",
              " 'choose': 923,\n",
              " 'moving': 924,\n",
              " 'built': 925,\n",
              " 'gas': 926,\n",
              " 'wealthy': 927,\n",
              " 'bite': 928,\n",
              " 'older': 929,\n",
              " 'naked': 930,\n",
              " 'sugar': 931,\n",
              " 'heavy': 932,\n",
              " 'apologize': 933,\n",
              " 'feed': 934,\n",
              " 'cars': 935,\n",
              " 'annoying': 936,\n",
              " 'helping': 937,\n",
              " 'nobodys': 938,\n",
              " 'risk': 939,\n",
              " 'abroad': 940,\n",
              " 'amazing': 941,\n",
              " 'nonsense': 942,\n",
              " 'act': 943,\n",
              " 'notice': 944,\n",
              " 'having': 945,\n",
              " 'delicious': 946,\n",
              " 'line': 947,\n",
              " 'students': 948,\n",
              " 'carefully': 949,\n",
              " 'mouth': 950,\n",
              " 'each': 951,\n",
              " 'cousin': 952,\n",
              " 'chance': 953,\n",
              " 'umbrella': 954,\n",
              " 'headache': 955,\n",
              " 'office': 956,\n",
              " 'hello': 957,\n",
              " 'excuse': 958,\n",
              " 'fixed': 959,\n",
              " 'prepared': 960,\n",
              " 'class': 961,\n",
              " 'healthy': 962,\n",
              " 'law': 963,\n",
              " 'unlucky': 964,\n",
              " 'wounded': 965,\n",
              " 'mess': 966,\n",
              " 'ship': 967,\n",
              " 'proof': 968,\n",
              " 'innocent': 969,\n",
              " 'walking': 970,\n",
              " 'goes': 971,\n",
              " 'smiling': 972,\n",
              " 'yelling': 973,\n",
              " 'followed': 974,\n",
              " 'ring': 975,\n",
              " 'dangerous': 976,\n",
              " 'different': 977,\n",
              " 'suit': 978,\n",
              " 'shower': 979,\n",
              " 'brown': 980,\n",
              " 'skinny': 981,\n",
              " 'taught': 982,\n",
              " 'paper': 983,\n",
              " '30': 984,\n",
              " 'fever': 985,\n",
              " 'homesick': 986,\n",
              " 'rather': 987,\n",
              " 'drinking': 988,\n",
              " 'husband': 989,\n",
              " 'studied': 990,\n",
              " 'learned': 991,\n",
              " 'ago': 992,\n",
              " 'cap': 993,\n",
              " 'australia': 994,\n",
              " 'werent': 995,\n",
              " 'whatever': 996,\n",
              " 'lock': 997,\n",
              " 'cruel': 998,\n",
              " 'hiding': 999,\n",
              " 'town': 1000,\n",
              " ...}"
            ]
          },
          "metadata": {
            "tags": []
          },
          "execution_count": 19
        }
      ]
    },
    {
      "cell_type": "code",
      "metadata": {
        "colab": {
          "base_uri": "https://localhost:8080/"
        },
        "id": "L4xtWobti5Bt",
        "outputId": "feb0bd89-03f6-4569-fc17-9f1103fdb0d7"
      },
      "source": [
        "deu_tokenizer = tokenization(deu_eng[:, 1])\n",
        "deu_vocab_size = len(deu_tokenizer.word_index) + 1\n",
        "\n",
        "deu_length = 8\n",
        "print('Deutch Vocabulary Size: %d' % deu_vocab_size) "
      ],
      "execution_count": 21,
      "outputs": [
        {
          "output_type": "stream",
          "text": [
            "Deutch Vocabulary Size: 10329\n"
          ],
          "name": "stdout"
        }
      ]
    },
    {
      "cell_type": "code",
      "metadata": {
        "id": "w5QSOwTkjSQp"
      },
      "source": [
        "def encode_sequences(tokenizer, length, lines):\n",
        "         # integer encode sequences\n",
        "         seq = tokenizer.texts_to_sequences(lines)\n",
        "         # pad sequences with 0 values\n",
        "         seq = pad_sequences(seq, maxlen=length, padding='post')\n",
        "         return seq"
      ],
      "execution_count": 23,
      "outputs": []
    },
    {
      "cell_type": "code",
      "metadata": {
        "id": "IUfa7Rz7jpXp"
      },
      "source": [
        "from sklearn.model_selection import train_test_split\n",
        "\n",
        "# split data into train and test set\n",
        "train, test = train_test_split(deu_eng, test_size=0.2, random_state = 12)"
      ],
      "execution_count": 24,
      "outputs": []
    },
    {
      "cell_type": "code",
      "metadata": {
        "id": "Mxxy4NOGj0NT"
      },
      "source": [
        "# prepare training data\n",
        "trainX = encode_sequences(deu_tokenizer, deu_length, train[:, 1])\n",
        "trainY = encode_sequences(eng_tokenizer, eng_length, train[:, 0])\n",
        "\n",
        "# prepare validation data\n",
        "testX = encode_sequences(deu_tokenizer, deu_length, test[:, 1])\n",
        "testY = encode_sequences(eng_tokenizer, eng_length, test[:, 0])"
      ],
      "execution_count": 25,
      "outputs": []
    },
    {
      "cell_type": "code",
      "metadata": {
        "id": "_ed0tHO_j_cW"
      },
      "source": [
        "def define_model(in_vocab,out_vocab, in_timesteps,out_timesteps,units):\n",
        "      model = Sequential()\n",
        "      model.add(Embedding(in_vocab, units, input_length=in_timesteps, mask_zero=True))\n",
        "      model.add(LSTM(units))\n",
        "      model.add(RepeatVector(out_timesteps))\n",
        "      model.add(LSTM(units, return_sequences=True))\n",
        "      model.add(Dense(out_vocab, activation='softmax'))\n",
        "      return model"
      ],
      "execution_count": 26,
      "outputs": []
    },
    {
      "cell_type": "code",
      "metadata": {
        "id": "yPTsGR4QkkQP"
      },
      "source": [
        "model = define_model(deu_vocab_size, eng_vocab_size, deu_length, eng_length, 512)"
      ],
      "execution_count": 27,
      "outputs": []
    },
    {
      "cell_type": "code",
      "metadata": {
        "id": "BU22GIVvlHMr"
      },
      "source": [
        "rms = optimizers.RMSprop(lr=0.001)\n",
        "model.compile(optimizer=rms, loss='sparse_categorical_crossentropy')"
      ],
      "execution_count": 28,
      "outputs": []
    },
    {
      "cell_type": "code",
      "metadata": {
        "colab": {
          "base_uri": "https://localhost:8080/"
        },
        "id": "1LvaJCRUlL2T",
        "outputId": "dcd919f0-1c04-4fc4-dcb1-c77041bd6950"
      },
      "source": [
        "filename = 'model.h1.19-03-21'\n",
        "checkpoint = ModelCheckpoint(filename, monitor='val_loss', verbose=1, save_best_only=True, mode='min')\n",
        "\n",
        "# train model\n",
        "history = model.fit(trainX, trainY.reshape(trainY.shape[0], trainY.shape[1], 1),\n",
        "                    epochs=30, batch_size=512, validation_split = 0.2,callbacks=[checkpoint], \n",
        "                    verbose=1)"
      ],
      "execution_count": 29,
      "outputs": [
        {
          "output_type": "stream",
          "text": [
            "Epoch 1/30\n",
            "63/63 [==============================] - 41s 95ms/step - loss: 4.3484 - val_loss: 2.8379\n",
            "\n",
            "Epoch 00001: val_loss improved from inf to 2.83785, saving model to model.h1.19-03-21\n"
          ],
          "name": "stdout"
        },
        {
          "output_type": "stream",
          "text": [
            "WARNING:absl:Found untraced functions such as lstm_cell_layer_call_fn, lstm_cell_layer_call_and_return_conditional_losses, lstm_cell_1_layer_call_fn, lstm_cell_1_layer_call_and_return_conditional_losses, lstm_cell_layer_call_fn while saving (showing 5 of 10). These functions will not be directly callable after loading.\n",
            "WARNING:absl:Found untraced functions such as lstm_cell_layer_call_fn, lstm_cell_layer_call_and_return_conditional_losses, lstm_cell_1_layer_call_fn, lstm_cell_1_layer_call_and_return_conditional_losses, lstm_cell_layer_call_fn while saving (showing 5 of 10). These functions will not be directly callable after loading.\n"
          ],
          "name": "stderr"
        },
        {
          "output_type": "stream",
          "text": [
            "INFO:tensorflow:Assets written to: model.h1.19-03-21/assets\n"
          ],
          "name": "stdout"
        },
        {
          "output_type": "stream",
          "text": [
            "INFO:tensorflow:Assets written to: model.h1.19-03-21/assets\n"
          ],
          "name": "stderr"
        },
        {
          "output_type": "stream",
          "text": [
            "Epoch 2/30\n",
            "63/63 [==============================] - 5s 72ms/step - loss: 2.7819 - val_loss: 2.7306\n",
            "\n",
            "Epoch 00002: val_loss improved from 2.83785 to 2.73057, saving model to model.h1.19-03-21\n"
          ],
          "name": "stdout"
        },
        {
          "output_type": "stream",
          "text": [
            "WARNING:absl:Found untraced functions such as lstm_cell_layer_call_fn, lstm_cell_layer_call_and_return_conditional_losses, lstm_cell_1_layer_call_fn, lstm_cell_1_layer_call_and_return_conditional_losses, lstm_cell_layer_call_fn while saving (showing 5 of 10). These functions will not be directly callable after loading.\n",
            "WARNING:absl:Found untraced functions such as lstm_cell_layer_call_fn, lstm_cell_layer_call_and_return_conditional_losses, lstm_cell_1_layer_call_fn, lstm_cell_1_layer_call_and_return_conditional_losses, lstm_cell_layer_call_fn while saving (showing 5 of 10). These functions will not be directly callable after loading.\n"
          ],
          "name": "stderr"
        },
        {
          "output_type": "stream",
          "text": [
            "INFO:tensorflow:Assets written to: model.h1.19-03-21/assets\n"
          ],
          "name": "stdout"
        },
        {
          "output_type": "stream",
          "text": [
            "INFO:tensorflow:Assets written to: model.h1.19-03-21/assets\n"
          ],
          "name": "stderr"
        },
        {
          "output_type": "stream",
          "text": [
            "Epoch 3/30\n",
            "63/63 [==============================] - 5s 73ms/step - loss: 2.6181 - val_loss: 2.5367\n",
            "\n",
            "Epoch 00003: val_loss improved from 2.73057 to 2.53671, saving model to model.h1.19-03-21\n"
          ],
          "name": "stdout"
        },
        {
          "output_type": "stream",
          "text": [
            "WARNING:absl:Found untraced functions such as lstm_cell_layer_call_fn, lstm_cell_layer_call_and_return_conditional_losses, lstm_cell_1_layer_call_fn, lstm_cell_1_layer_call_and_return_conditional_losses, lstm_cell_layer_call_fn while saving (showing 5 of 10). These functions will not be directly callable after loading.\n",
            "WARNING:absl:Found untraced functions such as lstm_cell_layer_call_fn, lstm_cell_layer_call_and_return_conditional_losses, lstm_cell_1_layer_call_fn, lstm_cell_1_layer_call_and_return_conditional_losses, lstm_cell_layer_call_fn while saving (showing 5 of 10). These functions will not be directly callable after loading.\n"
          ],
          "name": "stderr"
        },
        {
          "output_type": "stream",
          "text": [
            "INFO:tensorflow:Assets written to: model.h1.19-03-21/assets\n"
          ],
          "name": "stdout"
        },
        {
          "output_type": "stream",
          "text": [
            "INFO:tensorflow:Assets written to: model.h1.19-03-21/assets\n"
          ],
          "name": "stderr"
        },
        {
          "output_type": "stream",
          "text": [
            "Epoch 4/30\n",
            "63/63 [==============================] - 5s 74ms/step - loss: 2.4307 - val_loss: 2.4140\n",
            "\n",
            "Epoch 00004: val_loss improved from 2.53671 to 2.41404, saving model to model.h1.19-03-21\n"
          ],
          "name": "stdout"
        },
        {
          "output_type": "stream",
          "text": [
            "WARNING:absl:Found untraced functions such as lstm_cell_layer_call_fn, lstm_cell_layer_call_and_return_conditional_losses, lstm_cell_1_layer_call_fn, lstm_cell_1_layer_call_and_return_conditional_losses, lstm_cell_layer_call_fn while saving (showing 5 of 10). These functions will not be directly callable after loading.\n",
            "WARNING:absl:Found untraced functions such as lstm_cell_layer_call_fn, lstm_cell_layer_call_and_return_conditional_losses, lstm_cell_1_layer_call_fn, lstm_cell_1_layer_call_and_return_conditional_losses, lstm_cell_layer_call_fn while saving (showing 5 of 10). These functions will not be directly callable after loading.\n"
          ],
          "name": "stderr"
        },
        {
          "output_type": "stream",
          "text": [
            "INFO:tensorflow:Assets written to: model.h1.19-03-21/assets\n"
          ],
          "name": "stdout"
        },
        {
          "output_type": "stream",
          "text": [
            "INFO:tensorflow:Assets written to: model.h1.19-03-21/assets\n"
          ],
          "name": "stderr"
        },
        {
          "output_type": "stream",
          "text": [
            "Epoch 5/30\n",
            "63/63 [==============================] - 5s 75ms/step - loss: 2.2771 - val_loss: 2.2816\n",
            "\n",
            "Epoch 00005: val_loss improved from 2.41404 to 2.28157, saving model to model.h1.19-03-21\n"
          ],
          "name": "stdout"
        },
        {
          "output_type": "stream",
          "text": [
            "WARNING:absl:Found untraced functions such as lstm_cell_layer_call_fn, lstm_cell_layer_call_and_return_conditional_losses, lstm_cell_1_layer_call_fn, lstm_cell_1_layer_call_and_return_conditional_losses, lstm_cell_layer_call_fn while saving (showing 5 of 10). These functions will not be directly callable after loading.\n",
            "WARNING:absl:Found untraced functions such as lstm_cell_layer_call_fn, lstm_cell_layer_call_and_return_conditional_losses, lstm_cell_1_layer_call_fn, lstm_cell_1_layer_call_and_return_conditional_losses, lstm_cell_layer_call_fn while saving (showing 5 of 10). These functions will not be directly callable after loading.\n"
          ],
          "name": "stderr"
        },
        {
          "output_type": "stream",
          "text": [
            "INFO:tensorflow:Assets written to: model.h1.19-03-21/assets\n"
          ],
          "name": "stdout"
        },
        {
          "output_type": "stream",
          "text": [
            "INFO:tensorflow:Assets written to: model.h1.19-03-21/assets\n"
          ],
          "name": "stderr"
        },
        {
          "output_type": "stream",
          "text": [
            "Epoch 6/30\n",
            "63/63 [==============================] - 5s 74ms/step - loss: 2.1299 - val_loss: 2.1885\n",
            "\n",
            "Epoch 00006: val_loss improved from 2.28157 to 2.18846, saving model to model.h1.19-03-21\n"
          ],
          "name": "stdout"
        },
        {
          "output_type": "stream",
          "text": [
            "WARNING:absl:Found untraced functions such as lstm_cell_layer_call_fn, lstm_cell_layer_call_and_return_conditional_losses, lstm_cell_1_layer_call_fn, lstm_cell_1_layer_call_and_return_conditional_losses, lstm_cell_layer_call_fn while saving (showing 5 of 10). These functions will not be directly callable after loading.\n",
            "WARNING:absl:Found untraced functions such as lstm_cell_layer_call_fn, lstm_cell_layer_call_and_return_conditional_losses, lstm_cell_1_layer_call_fn, lstm_cell_1_layer_call_and_return_conditional_losses, lstm_cell_layer_call_fn while saving (showing 5 of 10). These functions will not be directly callable after loading.\n"
          ],
          "name": "stderr"
        },
        {
          "output_type": "stream",
          "text": [
            "INFO:tensorflow:Assets written to: model.h1.19-03-21/assets\n"
          ],
          "name": "stdout"
        },
        {
          "output_type": "stream",
          "text": [
            "INFO:tensorflow:Assets written to: model.h1.19-03-21/assets\n"
          ],
          "name": "stderr"
        },
        {
          "output_type": "stream",
          "text": [
            "Epoch 7/30\n",
            "63/63 [==============================] - 5s 74ms/step - loss: 2.0026 - val_loss: 2.1048\n",
            "\n",
            "Epoch 00007: val_loss improved from 2.18846 to 2.10478, saving model to model.h1.19-03-21\n"
          ],
          "name": "stdout"
        },
        {
          "output_type": "stream",
          "text": [
            "WARNING:absl:Found untraced functions such as lstm_cell_layer_call_fn, lstm_cell_layer_call_and_return_conditional_losses, lstm_cell_1_layer_call_fn, lstm_cell_1_layer_call_and_return_conditional_losses, lstm_cell_layer_call_fn while saving (showing 5 of 10). These functions will not be directly callable after loading.\n",
            "WARNING:absl:Found untraced functions such as lstm_cell_layer_call_fn, lstm_cell_layer_call_and_return_conditional_losses, lstm_cell_1_layer_call_fn, lstm_cell_1_layer_call_and_return_conditional_losses, lstm_cell_layer_call_fn while saving (showing 5 of 10). These functions will not be directly callable after loading.\n"
          ],
          "name": "stderr"
        },
        {
          "output_type": "stream",
          "text": [
            "INFO:tensorflow:Assets written to: model.h1.19-03-21/assets\n"
          ],
          "name": "stdout"
        },
        {
          "output_type": "stream",
          "text": [
            "INFO:tensorflow:Assets written to: model.h1.19-03-21/assets\n"
          ],
          "name": "stderr"
        },
        {
          "output_type": "stream",
          "text": [
            "Epoch 8/30\n",
            "63/63 [==============================] - 5s 74ms/step - loss: 1.8921 - val_loss: 2.0295\n",
            "\n",
            "Epoch 00008: val_loss improved from 2.10478 to 2.02954, saving model to model.h1.19-03-21\n"
          ],
          "name": "stdout"
        },
        {
          "output_type": "stream",
          "text": [
            "WARNING:absl:Found untraced functions such as lstm_cell_layer_call_fn, lstm_cell_layer_call_and_return_conditional_losses, lstm_cell_1_layer_call_fn, lstm_cell_1_layer_call_and_return_conditional_losses, lstm_cell_layer_call_fn while saving (showing 5 of 10). These functions will not be directly callable after loading.\n",
            "WARNING:absl:Found untraced functions such as lstm_cell_layer_call_fn, lstm_cell_layer_call_and_return_conditional_losses, lstm_cell_1_layer_call_fn, lstm_cell_1_layer_call_and_return_conditional_losses, lstm_cell_layer_call_fn while saving (showing 5 of 10). These functions will not be directly callable after loading.\n"
          ],
          "name": "stderr"
        },
        {
          "output_type": "stream",
          "text": [
            "INFO:tensorflow:Assets written to: model.h1.19-03-21/assets\n"
          ],
          "name": "stdout"
        },
        {
          "output_type": "stream",
          "text": [
            "INFO:tensorflow:Assets written to: model.h1.19-03-21/assets\n"
          ],
          "name": "stderr"
        },
        {
          "output_type": "stream",
          "text": [
            "Epoch 9/30\n",
            "63/63 [==============================] - 5s 76ms/step - loss: 1.7808 - val_loss: 1.9679\n",
            "\n",
            "Epoch 00009: val_loss improved from 2.02954 to 1.96787, saving model to model.h1.19-03-21\n"
          ],
          "name": "stdout"
        },
        {
          "output_type": "stream",
          "text": [
            "WARNING:absl:Found untraced functions such as lstm_cell_layer_call_fn, lstm_cell_layer_call_and_return_conditional_losses, lstm_cell_1_layer_call_fn, lstm_cell_1_layer_call_and_return_conditional_losses, lstm_cell_layer_call_fn while saving (showing 5 of 10). These functions will not be directly callable after loading.\n",
            "WARNING:absl:Found untraced functions such as lstm_cell_layer_call_fn, lstm_cell_layer_call_and_return_conditional_losses, lstm_cell_1_layer_call_fn, lstm_cell_1_layer_call_and_return_conditional_losses, lstm_cell_layer_call_fn while saving (showing 5 of 10). These functions will not be directly callable after loading.\n"
          ],
          "name": "stderr"
        },
        {
          "output_type": "stream",
          "text": [
            "INFO:tensorflow:Assets written to: model.h1.19-03-21/assets\n"
          ],
          "name": "stdout"
        },
        {
          "output_type": "stream",
          "text": [
            "INFO:tensorflow:Assets written to: model.h1.19-03-21/assets\n"
          ],
          "name": "stderr"
        },
        {
          "output_type": "stream",
          "text": [
            "Epoch 10/30\n",
            "63/63 [==============================] - 5s 76ms/step - loss: 1.6705 - val_loss: 1.8896\n",
            "\n",
            "Epoch 00010: val_loss improved from 1.96787 to 1.88957, saving model to model.h1.19-03-21\n"
          ],
          "name": "stdout"
        },
        {
          "output_type": "stream",
          "text": [
            "WARNING:absl:Found untraced functions such as lstm_cell_layer_call_fn, lstm_cell_layer_call_and_return_conditional_losses, lstm_cell_1_layer_call_fn, lstm_cell_1_layer_call_and_return_conditional_losses, lstm_cell_layer_call_fn while saving (showing 5 of 10). These functions will not be directly callable after loading.\n",
            "WARNING:absl:Found untraced functions such as lstm_cell_layer_call_fn, lstm_cell_layer_call_and_return_conditional_losses, lstm_cell_1_layer_call_fn, lstm_cell_1_layer_call_and_return_conditional_losses, lstm_cell_layer_call_fn while saving (showing 5 of 10). These functions will not be directly callable after loading.\n"
          ],
          "name": "stderr"
        },
        {
          "output_type": "stream",
          "text": [
            "INFO:tensorflow:Assets written to: model.h1.19-03-21/assets\n"
          ],
          "name": "stdout"
        },
        {
          "output_type": "stream",
          "text": [
            "INFO:tensorflow:Assets written to: model.h1.19-03-21/assets\n"
          ],
          "name": "stderr"
        },
        {
          "output_type": "stream",
          "text": [
            "Epoch 11/30\n",
            "63/63 [==============================] - 5s 77ms/step - loss: 1.5750 - val_loss: 1.8066\n",
            "\n",
            "Epoch 00011: val_loss improved from 1.88957 to 1.80657, saving model to model.h1.19-03-21\n"
          ],
          "name": "stdout"
        },
        {
          "output_type": "stream",
          "text": [
            "WARNING:absl:Found untraced functions such as lstm_cell_layer_call_fn, lstm_cell_layer_call_and_return_conditional_losses, lstm_cell_1_layer_call_fn, lstm_cell_1_layer_call_and_return_conditional_losses, lstm_cell_layer_call_fn while saving (showing 5 of 10). These functions will not be directly callable after loading.\n",
            "WARNING:absl:Found untraced functions such as lstm_cell_layer_call_fn, lstm_cell_layer_call_and_return_conditional_losses, lstm_cell_1_layer_call_fn, lstm_cell_1_layer_call_and_return_conditional_losses, lstm_cell_layer_call_fn while saving (showing 5 of 10). These functions will not be directly callable after loading.\n"
          ],
          "name": "stderr"
        },
        {
          "output_type": "stream",
          "text": [
            "INFO:tensorflow:Assets written to: model.h1.19-03-21/assets\n"
          ],
          "name": "stdout"
        },
        {
          "output_type": "stream",
          "text": [
            "INFO:tensorflow:Assets written to: model.h1.19-03-21/assets\n"
          ],
          "name": "stderr"
        },
        {
          "output_type": "stream",
          "text": [
            "Epoch 12/30\n",
            "63/63 [==============================] - 5s 76ms/step - loss: 1.4718 - val_loss: 1.7469\n",
            "\n",
            "Epoch 00012: val_loss improved from 1.80657 to 1.74695, saving model to model.h1.19-03-21\n"
          ],
          "name": "stdout"
        },
        {
          "output_type": "stream",
          "text": [
            "WARNING:absl:Found untraced functions such as lstm_cell_layer_call_fn, lstm_cell_layer_call_and_return_conditional_losses, lstm_cell_1_layer_call_fn, lstm_cell_1_layer_call_and_return_conditional_losses, lstm_cell_layer_call_fn while saving (showing 5 of 10). These functions will not be directly callable after loading.\n",
            "WARNING:absl:Found untraced functions such as lstm_cell_layer_call_fn, lstm_cell_layer_call_and_return_conditional_losses, lstm_cell_1_layer_call_fn, lstm_cell_1_layer_call_and_return_conditional_losses, lstm_cell_layer_call_fn while saving (showing 5 of 10). These functions will not be directly callable after loading.\n"
          ],
          "name": "stderr"
        },
        {
          "output_type": "stream",
          "text": [
            "INFO:tensorflow:Assets written to: model.h1.19-03-21/assets\n"
          ],
          "name": "stdout"
        },
        {
          "output_type": "stream",
          "text": [
            "INFO:tensorflow:Assets written to: model.h1.19-03-21/assets\n"
          ],
          "name": "stderr"
        },
        {
          "output_type": "stream",
          "text": [
            "Epoch 13/30\n",
            "63/63 [==============================] - 5s 77ms/step - loss: 1.3818 - val_loss: 1.6989\n",
            "\n",
            "Epoch 00013: val_loss improved from 1.74695 to 1.69889, saving model to model.h1.19-03-21\n"
          ],
          "name": "stdout"
        },
        {
          "output_type": "stream",
          "text": [
            "WARNING:absl:Found untraced functions such as lstm_cell_layer_call_fn, lstm_cell_layer_call_and_return_conditional_losses, lstm_cell_1_layer_call_fn, lstm_cell_1_layer_call_and_return_conditional_losses, lstm_cell_layer_call_fn while saving (showing 5 of 10). These functions will not be directly callable after loading.\n",
            "WARNING:absl:Found untraced functions such as lstm_cell_layer_call_fn, lstm_cell_layer_call_and_return_conditional_losses, lstm_cell_1_layer_call_fn, lstm_cell_1_layer_call_and_return_conditional_losses, lstm_cell_layer_call_fn while saving (showing 5 of 10). These functions will not be directly callable after loading.\n"
          ],
          "name": "stderr"
        },
        {
          "output_type": "stream",
          "text": [
            "INFO:tensorflow:Assets written to: model.h1.19-03-21/assets\n"
          ],
          "name": "stdout"
        },
        {
          "output_type": "stream",
          "text": [
            "INFO:tensorflow:Assets written to: model.h1.19-03-21/assets\n"
          ],
          "name": "stderr"
        },
        {
          "output_type": "stream",
          "text": [
            "Epoch 14/30\n",
            "63/63 [==============================] - 5s 77ms/step - loss: 1.2967 - val_loss: 1.6460\n",
            "\n",
            "Epoch 00014: val_loss improved from 1.69889 to 1.64597, saving model to model.h1.19-03-21\n"
          ],
          "name": "stdout"
        },
        {
          "output_type": "stream",
          "text": [
            "WARNING:absl:Found untraced functions such as lstm_cell_layer_call_fn, lstm_cell_layer_call_and_return_conditional_losses, lstm_cell_1_layer_call_fn, lstm_cell_1_layer_call_and_return_conditional_losses, lstm_cell_layer_call_fn while saving (showing 5 of 10). These functions will not be directly callable after loading.\n",
            "WARNING:absl:Found untraced functions such as lstm_cell_layer_call_fn, lstm_cell_layer_call_and_return_conditional_losses, lstm_cell_1_layer_call_fn, lstm_cell_1_layer_call_and_return_conditional_losses, lstm_cell_layer_call_fn while saving (showing 5 of 10). These functions will not be directly callable after loading.\n"
          ],
          "name": "stderr"
        },
        {
          "output_type": "stream",
          "text": [
            "INFO:tensorflow:Assets written to: model.h1.19-03-21/assets\n"
          ],
          "name": "stdout"
        },
        {
          "output_type": "stream",
          "text": [
            "INFO:tensorflow:Assets written to: model.h1.19-03-21/assets\n"
          ],
          "name": "stderr"
        },
        {
          "output_type": "stream",
          "text": [
            "Epoch 15/30\n",
            "63/63 [==============================] - 5s 76ms/step - loss: 1.2194 - val_loss: 1.6084\n",
            "\n",
            "Epoch 00015: val_loss improved from 1.64597 to 1.60839, saving model to model.h1.19-03-21\n"
          ],
          "name": "stdout"
        },
        {
          "output_type": "stream",
          "text": [
            "WARNING:absl:Found untraced functions such as lstm_cell_layer_call_fn, lstm_cell_layer_call_and_return_conditional_losses, lstm_cell_1_layer_call_fn, lstm_cell_1_layer_call_and_return_conditional_losses, lstm_cell_layer_call_fn while saving (showing 5 of 10). These functions will not be directly callable after loading.\n",
            "WARNING:absl:Found untraced functions such as lstm_cell_layer_call_fn, lstm_cell_layer_call_and_return_conditional_losses, lstm_cell_1_layer_call_fn, lstm_cell_1_layer_call_and_return_conditional_losses, lstm_cell_layer_call_fn while saving (showing 5 of 10). These functions will not be directly callable after loading.\n"
          ],
          "name": "stderr"
        },
        {
          "output_type": "stream",
          "text": [
            "INFO:tensorflow:Assets written to: model.h1.19-03-21/assets\n"
          ],
          "name": "stdout"
        },
        {
          "output_type": "stream",
          "text": [
            "INFO:tensorflow:Assets written to: model.h1.19-03-21/assets\n"
          ],
          "name": "stderr"
        },
        {
          "output_type": "stream",
          "text": [
            "Epoch 16/30\n",
            "63/63 [==============================] - 5s 77ms/step - loss: 1.1357 - val_loss: 1.5708\n",
            "\n",
            "Epoch 00016: val_loss improved from 1.60839 to 1.57083, saving model to model.h1.19-03-21\n"
          ],
          "name": "stdout"
        },
        {
          "output_type": "stream",
          "text": [
            "WARNING:absl:Found untraced functions such as lstm_cell_layer_call_fn, lstm_cell_layer_call_and_return_conditional_losses, lstm_cell_1_layer_call_fn, lstm_cell_1_layer_call_and_return_conditional_losses, lstm_cell_layer_call_fn while saving (showing 5 of 10). These functions will not be directly callable after loading.\n",
            "WARNING:absl:Found untraced functions such as lstm_cell_layer_call_fn, lstm_cell_layer_call_and_return_conditional_losses, lstm_cell_1_layer_call_fn, lstm_cell_1_layer_call_and_return_conditional_losses, lstm_cell_layer_call_fn while saving (showing 5 of 10). These functions will not be directly callable after loading.\n"
          ],
          "name": "stderr"
        },
        {
          "output_type": "stream",
          "text": [
            "INFO:tensorflow:Assets written to: model.h1.19-03-21/assets\n"
          ],
          "name": "stdout"
        },
        {
          "output_type": "stream",
          "text": [
            "INFO:tensorflow:Assets written to: model.h1.19-03-21/assets\n"
          ],
          "name": "stderr"
        },
        {
          "output_type": "stream",
          "text": [
            "Epoch 17/30\n",
            "63/63 [==============================] - 5s 77ms/step - loss: 1.0624 - val_loss: 1.5316\n",
            "\n",
            "Epoch 00017: val_loss improved from 1.57083 to 1.53156, saving model to model.h1.19-03-21\n"
          ],
          "name": "stdout"
        },
        {
          "output_type": "stream",
          "text": [
            "WARNING:absl:Found untraced functions such as lstm_cell_layer_call_fn, lstm_cell_layer_call_and_return_conditional_losses, lstm_cell_1_layer_call_fn, lstm_cell_1_layer_call_and_return_conditional_losses, lstm_cell_layer_call_fn while saving (showing 5 of 10). These functions will not be directly callable after loading.\n",
            "WARNING:absl:Found untraced functions such as lstm_cell_layer_call_fn, lstm_cell_layer_call_and_return_conditional_losses, lstm_cell_1_layer_call_fn, lstm_cell_1_layer_call_and_return_conditional_losses, lstm_cell_layer_call_fn while saving (showing 5 of 10). These functions will not be directly callable after loading.\n"
          ],
          "name": "stderr"
        },
        {
          "output_type": "stream",
          "text": [
            "INFO:tensorflow:Assets written to: model.h1.19-03-21/assets\n"
          ],
          "name": "stdout"
        },
        {
          "output_type": "stream",
          "text": [
            "INFO:tensorflow:Assets written to: model.h1.19-03-21/assets\n"
          ],
          "name": "stderr"
        },
        {
          "output_type": "stream",
          "text": [
            "Epoch 18/30\n",
            "63/63 [==============================] - 5s 78ms/step - loss: 0.9895 - val_loss: 1.4955\n",
            "\n",
            "Epoch 00018: val_loss improved from 1.53156 to 1.49552, saving model to model.h1.19-03-21\n"
          ],
          "name": "stdout"
        },
        {
          "output_type": "stream",
          "text": [
            "WARNING:absl:Found untraced functions such as lstm_cell_layer_call_fn, lstm_cell_layer_call_and_return_conditional_losses, lstm_cell_1_layer_call_fn, lstm_cell_1_layer_call_and_return_conditional_losses, lstm_cell_layer_call_fn while saving (showing 5 of 10). These functions will not be directly callable after loading.\n",
            "WARNING:absl:Found untraced functions such as lstm_cell_layer_call_fn, lstm_cell_layer_call_and_return_conditional_losses, lstm_cell_1_layer_call_fn, lstm_cell_1_layer_call_and_return_conditional_losses, lstm_cell_layer_call_fn while saving (showing 5 of 10). These functions will not be directly callable after loading.\n"
          ],
          "name": "stderr"
        },
        {
          "output_type": "stream",
          "text": [
            "INFO:tensorflow:Assets written to: model.h1.19-03-21/assets\n"
          ],
          "name": "stdout"
        },
        {
          "output_type": "stream",
          "text": [
            "INFO:tensorflow:Assets written to: model.h1.19-03-21/assets\n"
          ],
          "name": "stderr"
        },
        {
          "output_type": "stream",
          "text": [
            "Epoch 19/30\n",
            "63/63 [==============================] - 5s 77ms/step - loss: 0.9249 - val_loss: 1.4724\n",
            "\n",
            "Epoch 00019: val_loss improved from 1.49552 to 1.47239, saving model to model.h1.19-03-21\n"
          ],
          "name": "stdout"
        },
        {
          "output_type": "stream",
          "text": [
            "WARNING:absl:Found untraced functions such as lstm_cell_layer_call_fn, lstm_cell_layer_call_and_return_conditional_losses, lstm_cell_1_layer_call_fn, lstm_cell_1_layer_call_and_return_conditional_losses, lstm_cell_layer_call_fn while saving (showing 5 of 10). These functions will not be directly callable after loading.\n",
            "WARNING:absl:Found untraced functions such as lstm_cell_layer_call_fn, lstm_cell_layer_call_and_return_conditional_losses, lstm_cell_1_layer_call_fn, lstm_cell_1_layer_call_and_return_conditional_losses, lstm_cell_layer_call_fn while saving (showing 5 of 10). These functions will not be directly callable after loading.\n"
          ],
          "name": "stderr"
        },
        {
          "output_type": "stream",
          "text": [
            "INFO:tensorflow:Assets written to: model.h1.19-03-21/assets\n"
          ],
          "name": "stdout"
        },
        {
          "output_type": "stream",
          "text": [
            "INFO:tensorflow:Assets written to: model.h1.19-03-21/assets\n"
          ],
          "name": "stderr"
        },
        {
          "output_type": "stream",
          "text": [
            "Epoch 20/30\n",
            "63/63 [==============================] - 5s 78ms/step - loss: 0.8574 - val_loss: 1.4479\n",
            "\n",
            "Epoch 00020: val_loss improved from 1.47239 to 1.44793, saving model to model.h1.19-03-21\n"
          ],
          "name": "stdout"
        },
        {
          "output_type": "stream",
          "text": [
            "WARNING:absl:Found untraced functions such as lstm_cell_layer_call_fn, lstm_cell_layer_call_and_return_conditional_losses, lstm_cell_1_layer_call_fn, lstm_cell_1_layer_call_and_return_conditional_losses, lstm_cell_layer_call_fn while saving (showing 5 of 10). These functions will not be directly callable after loading.\n",
            "WARNING:absl:Found untraced functions such as lstm_cell_layer_call_fn, lstm_cell_layer_call_and_return_conditional_losses, lstm_cell_1_layer_call_fn, lstm_cell_1_layer_call_and_return_conditional_losses, lstm_cell_layer_call_fn while saving (showing 5 of 10). These functions will not be directly callable after loading.\n"
          ],
          "name": "stderr"
        },
        {
          "output_type": "stream",
          "text": [
            "INFO:tensorflow:Assets written to: model.h1.19-03-21/assets\n"
          ],
          "name": "stdout"
        },
        {
          "output_type": "stream",
          "text": [
            "INFO:tensorflow:Assets written to: model.h1.19-03-21/assets\n"
          ],
          "name": "stderr"
        },
        {
          "output_type": "stream",
          "text": [
            "Epoch 21/30\n",
            "63/63 [==============================] - 5s 78ms/step - loss: 0.7967 - val_loss: 1.4308\n",
            "\n",
            "Epoch 00021: val_loss improved from 1.44793 to 1.43081, saving model to model.h1.19-03-21\n"
          ],
          "name": "stdout"
        },
        {
          "output_type": "stream",
          "text": [
            "WARNING:absl:Found untraced functions such as lstm_cell_layer_call_fn, lstm_cell_layer_call_and_return_conditional_losses, lstm_cell_1_layer_call_fn, lstm_cell_1_layer_call_and_return_conditional_losses, lstm_cell_layer_call_fn while saving (showing 5 of 10). These functions will not be directly callable after loading.\n",
            "WARNING:absl:Found untraced functions such as lstm_cell_layer_call_fn, lstm_cell_layer_call_and_return_conditional_losses, lstm_cell_1_layer_call_fn, lstm_cell_1_layer_call_and_return_conditional_losses, lstm_cell_layer_call_fn while saving (showing 5 of 10). These functions will not be directly callable after loading.\n"
          ],
          "name": "stderr"
        },
        {
          "output_type": "stream",
          "text": [
            "INFO:tensorflow:Assets written to: model.h1.19-03-21/assets\n"
          ],
          "name": "stdout"
        },
        {
          "output_type": "stream",
          "text": [
            "INFO:tensorflow:Assets written to: model.h1.19-03-21/assets\n"
          ],
          "name": "stderr"
        },
        {
          "output_type": "stream",
          "text": [
            "Epoch 22/30\n",
            "63/63 [==============================] - 5s 78ms/step - loss: 0.7486 - val_loss: 1.4098\n",
            "\n",
            "Epoch 00022: val_loss improved from 1.43081 to 1.40980, saving model to model.h1.19-03-21\n"
          ],
          "name": "stdout"
        },
        {
          "output_type": "stream",
          "text": [
            "WARNING:absl:Found untraced functions such as lstm_cell_layer_call_fn, lstm_cell_layer_call_and_return_conditional_losses, lstm_cell_1_layer_call_fn, lstm_cell_1_layer_call_and_return_conditional_losses, lstm_cell_layer_call_fn while saving (showing 5 of 10). These functions will not be directly callable after loading.\n",
            "WARNING:absl:Found untraced functions such as lstm_cell_layer_call_fn, lstm_cell_layer_call_and_return_conditional_losses, lstm_cell_1_layer_call_fn, lstm_cell_1_layer_call_and_return_conditional_losses, lstm_cell_layer_call_fn while saving (showing 5 of 10). These functions will not be directly callable after loading.\n"
          ],
          "name": "stderr"
        },
        {
          "output_type": "stream",
          "text": [
            "INFO:tensorflow:Assets written to: model.h1.19-03-21/assets\n"
          ],
          "name": "stdout"
        },
        {
          "output_type": "stream",
          "text": [
            "INFO:tensorflow:Assets written to: model.h1.19-03-21/assets\n"
          ],
          "name": "stderr"
        },
        {
          "output_type": "stream",
          "text": [
            "Epoch 23/30\n",
            "63/63 [==============================] - 5s 77ms/step - loss: 0.6883 - val_loss: 1.3865\n",
            "\n",
            "Epoch 00023: val_loss improved from 1.40980 to 1.38650, saving model to model.h1.19-03-21\n"
          ],
          "name": "stdout"
        },
        {
          "output_type": "stream",
          "text": [
            "WARNING:absl:Found untraced functions such as lstm_cell_layer_call_fn, lstm_cell_layer_call_and_return_conditional_losses, lstm_cell_1_layer_call_fn, lstm_cell_1_layer_call_and_return_conditional_losses, lstm_cell_layer_call_fn while saving (showing 5 of 10). These functions will not be directly callable after loading.\n",
            "WARNING:absl:Found untraced functions such as lstm_cell_layer_call_fn, lstm_cell_layer_call_and_return_conditional_losses, lstm_cell_1_layer_call_fn, lstm_cell_1_layer_call_and_return_conditional_losses, lstm_cell_layer_call_fn while saving (showing 5 of 10). These functions will not be directly callable after loading.\n"
          ],
          "name": "stderr"
        },
        {
          "output_type": "stream",
          "text": [
            "INFO:tensorflow:Assets written to: model.h1.19-03-21/assets\n"
          ],
          "name": "stdout"
        },
        {
          "output_type": "stream",
          "text": [
            "INFO:tensorflow:Assets written to: model.h1.19-03-21/assets\n"
          ],
          "name": "stderr"
        },
        {
          "output_type": "stream",
          "text": [
            "Epoch 24/30\n",
            "63/63 [==============================] - 5s 76ms/step - loss: 0.6378 - val_loss: 1.3678\n",
            "\n",
            "Epoch 00024: val_loss improved from 1.38650 to 1.36777, saving model to model.h1.19-03-21\n"
          ],
          "name": "stdout"
        },
        {
          "output_type": "stream",
          "text": [
            "WARNING:absl:Found untraced functions such as lstm_cell_layer_call_fn, lstm_cell_layer_call_and_return_conditional_losses, lstm_cell_1_layer_call_fn, lstm_cell_1_layer_call_and_return_conditional_losses, lstm_cell_layer_call_fn while saving (showing 5 of 10). These functions will not be directly callable after loading.\n",
            "WARNING:absl:Found untraced functions such as lstm_cell_layer_call_fn, lstm_cell_layer_call_and_return_conditional_losses, lstm_cell_1_layer_call_fn, lstm_cell_1_layer_call_and_return_conditional_losses, lstm_cell_layer_call_fn while saving (showing 5 of 10). These functions will not be directly callable after loading.\n"
          ],
          "name": "stderr"
        },
        {
          "output_type": "stream",
          "text": [
            "INFO:tensorflow:Assets written to: model.h1.19-03-21/assets\n"
          ],
          "name": "stdout"
        },
        {
          "output_type": "stream",
          "text": [
            "INFO:tensorflow:Assets written to: model.h1.19-03-21/assets\n"
          ],
          "name": "stderr"
        },
        {
          "output_type": "stream",
          "text": [
            "Epoch 25/30\n",
            "63/63 [==============================] - 5s 75ms/step - loss: 0.5850 - val_loss: 1.3594\n",
            "\n",
            "Epoch 00025: val_loss improved from 1.36777 to 1.35944, saving model to model.h1.19-03-21\n"
          ],
          "name": "stdout"
        },
        {
          "output_type": "stream",
          "text": [
            "WARNING:absl:Found untraced functions such as lstm_cell_layer_call_fn, lstm_cell_layer_call_and_return_conditional_losses, lstm_cell_1_layer_call_fn, lstm_cell_1_layer_call_and_return_conditional_losses, lstm_cell_layer_call_fn while saving (showing 5 of 10). These functions will not be directly callable after loading.\n",
            "WARNING:absl:Found untraced functions such as lstm_cell_layer_call_fn, lstm_cell_layer_call_and_return_conditional_losses, lstm_cell_1_layer_call_fn, lstm_cell_1_layer_call_and_return_conditional_losses, lstm_cell_layer_call_fn while saving (showing 5 of 10). These functions will not be directly callable after loading.\n"
          ],
          "name": "stderr"
        },
        {
          "output_type": "stream",
          "text": [
            "INFO:tensorflow:Assets written to: model.h1.19-03-21/assets\n"
          ],
          "name": "stdout"
        },
        {
          "output_type": "stream",
          "text": [
            "INFO:tensorflow:Assets written to: model.h1.19-03-21/assets\n"
          ],
          "name": "stderr"
        },
        {
          "output_type": "stream",
          "text": [
            "Epoch 26/30\n",
            "63/63 [==============================] - 5s 77ms/step - loss: 0.5406 - val_loss: 1.3516\n",
            "\n",
            "Epoch 00026: val_loss improved from 1.35944 to 1.35163, saving model to model.h1.19-03-21\n"
          ],
          "name": "stdout"
        },
        {
          "output_type": "stream",
          "text": [
            "WARNING:absl:Found untraced functions such as lstm_cell_layer_call_fn, lstm_cell_layer_call_and_return_conditional_losses, lstm_cell_1_layer_call_fn, lstm_cell_1_layer_call_and_return_conditional_losses, lstm_cell_layer_call_fn while saving (showing 5 of 10). These functions will not be directly callable after loading.\n",
            "WARNING:absl:Found untraced functions such as lstm_cell_layer_call_fn, lstm_cell_layer_call_and_return_conditional_losses, lstm_cell_1_layer_call_fn, lstm_cell_1_layer_call_and_return_conditional_losses, lstm_cell_layer_call_fn while saving (showing 5 of 10). These functions will not be directly callable after loading.\n"
          ],
          "name": "stderr"
        },
        {
          "output_type": "stream",
          "text": [
            "INFO:tensorflow:Assets written to: model.h1.19-03-21/assets\n"
          ],
          "name": "stdout"
        },
        {
          "output_type": "stream",
          "text": [
            "INFO:tensorflow:Assets written to: model.h1.19-03-21/assets\n"
          ],
          "name": "stderr"
        },
        {
          "output_type": "stream",
          "text": [
            "Epoch 27/30\n",
            "63/63 [==============================] - 5s 78ms/step - loss: 0.4970 - val_loss: 1.3453\n",
            "\n",
            "Epoch 00027: val_loss improved from 1.35163 to 1.34531, saving model to model.h1.19-03-21\n"
          ],
          "name": "stdout"
        },
        {
          "output_type": "stream",
          "text": [
            "WARNING:absl:Found untraced functions such as lstm_cell_layer_call_fn, lstm_cell_layer_call_and_return_conditional_losses, lstm_cell_1_layer_call_fn, lstm_cell_1_layer_call_and_return_conditional_losses, lstm_cell_layer_call_fn while saving (showing 5 of 10). These functions will not be directly callable after loading.\n",
            "WARNING:absl:Found untraced functions such as lstm_cell_layer_call_fn, lstm_cell_layer_call_and_return_conditional_losses, lstm_cell_1_layer_call_fn, lstm_cell_1_layer_call_and_return_conditional_losses, lstm_cell_layer_call_fn while saving (showing 5 of 10). These functions will not be directly callable after loading.\n"
          ],
          "name": "stderr"
        },
        {
          "output_type": "stream",
          "text": [
            "INFO:tensorflow:Assets written to: model.h1.19-03-21/assets\n"
          ],
          "name": "stdout"
        },
        {
          "output_type": "stream",
          "text": [
            "INFO:tensorflow:Assets written to: model.h1.19-03-21/assets\n"
          ],
          "name": "stderr"
        },
        {
          "output_type": "stream",
          "text": [
            "Epoch 28/30\n",
            "63/63 [==============================] - 5s 76ms/step - loss: 0.4583 - val_loss: 1.3274\n",
            "\n",
            "Epoch 00028: val_loss improved from 1.34531 to 1.32735, saving model to model.h1.19-03-21\n"
          ],
          "name": "stdout"
        },
        {
          "output_type": "stream",
          "text": [
            "WARNING:absl:Found untraced functions such as lstm_cell_layer_call_fn, lstm_cell_layer_call_and_return_conditional_losses, lstm_cell_1_layer_call_fn, lstm_cell_1_layer_call_and_return_conditional_losses, lstm_cell_layer_call_fn while saving (showing 5 of 10). These functions will not be directly callable after loading.\n",
            "WARNING:absl:Found untraced functions such as lstm_cell_layer_call_fn, lstm_cell_layer_call_and_return_conditional_losses, lstm_cell_1_layer_call_fn, lstm_cell_1_layer_call_and_return_conditional_losses, lstm_cell_layer_call_fn while saving (showing 5 of 10). These functions will not be directly callable after loading.\n"
          ],
          "name": "stderr"
        },
        {
          "output_type": "stream",
          "text": [
            "INFO:tensorflow:Assets written to: model.h1.19-03-21/assets\n"
          ],
          "name": "stdout"
        },
        {
          "output_type": "stream",
          "text": [
            "INFO:tensorflow:Assets written to: model.h1.19-03-21/assets\n"
          ],
          "name": "stderr"
        },
        {
          "output_type": "stream",
          "text": [
            "Epoch 29/30\n",
            "63/63 [==============================] - 5s 77ms/step - loss: 0.4155 - val_loss: 1.3219\n",
            "\n",
            "Epoch 00029: val_loss improved from 1.32735 to 1.32188, saving model to model.h1.19-03-21\n"
          ],
          "name": "stdout"
        },
        {
          "output_type": "stream",
          "text": [
            "WARNING:absl:Found untraced functions such as lstm_cell_layer_call_fn, lstm_cell_layer_call_and_return_conditional_losses, lstm_cell_1_layer_call_fn, lstm_cell_1_layer_call_and_return_conditional_losses, lstm_cell_layer_call_fn while saving (showing 5 of 10). These functions will not be directly callable after loading.\n",
            "WARNING:absl:Found untraced functions such as lstm_cell_layer_call_fn, lstm_cell_layer_call_and_return_conditional_losses, lstm_cell_1_layer_call_fn, lstm_cell_1_layer_call_and_return_conditional_losses, lstm_cell_layer_call_fn while saving (showing 5 of 10). These functions will not be directly callable after loading.\n"
          ],
          "name": "stderr"
        },
        {
          "output_type": "stream",
          "text": [
            "INFO:tensorflow:Assets written to: model.h1.19-03-21/assets\n"
          ],
          "name": "stdout"
        },
        {
          "output_type": "stream",
          "text": [
            "INFO:tensorflow:Assets written to: model.h1.19-03-21/assets\n"
          ],
          "name": "stderr"
        },
        {
          "output_type": "stream",
          "text": [
            "Epoch 30/30\n",
            "63/63 [==============================] - 5s 76ms/step - loss: 0.3801 - val_loss: 1.3354\n",
            "\n",
            "Epoch 00030: val_loss did not improve from 1.32188\n"
          ],
          "name": "stdout"
        }
      ]
    },
    {
      "cell_type": "code",
      "metadata": {
        "colab": {
          "base_uri": "https://localhost:8080/",
          "height": 265
        },
        "id": "3HQFxGBWlfh7",
        "outputId": "106f1b46-44b6-4b8c-8d57-c1b412a157da"
      },
      "source": [
        "plt.plot(history.history['loss'])\n",
        "plt.plot(history.history['val_loss'])\n",
        "plt.legend(['train','validation'])\n",
        "plt.show()"
      ],
      "execution_count": 30,
      "outputs": [
        {
          "output_type": "display_data",
          "data": {
            "image/png": "[encoded data removed]",
            "text/plain": [
              "<Figure size 432x288 with 1 Axes>"
            ]
          },
          "metadata": {
            "tags": [],
            "needs_background": "light"
          }
        }
      ]
    },
    {
      "cell_type": "code",
      "metadata": {
        "colab": {
          "base_uri": "https://localhost:8080/"
        },
        "id": "jSrbLEz0njPq",
        "outputId": "ffc09fd6-5e50-4d68-f075-25494edb1882"
      },
      "source": [
        "#model = load_model('model.h1.24_jan_19')\n",
        "preds = model.predict_classes(testX.reshape((testX.shape[0],testX.shape[1])))"
      ],
      "execution_count": 32,
      "outputs": [
        {
          "output_type": "stream",
          "text": [
            "/usr/local/lib/python3.7/dist-packages/tensorflow/python/keras/engine/sequential.py:450: UserWarning: `model.predict_classes()` is deprecated and will be removed after 2021-01-01. Please use instead:* `np.argmax(model.predict(x), axis=-1)`,   if your model does multi-class classification   (e.g. if it uses a `softmax` last-layer activation).* `(model.predict(x) > 0.5).astype(\"int32\")`,   if your model does binary classification   (e.g. if it uses a `sigmoid` last-layer activation).\n",
            "  warnings.warn('`model.predict_classes()` is deprecated and '\n"
          ],
          "name": "stderr"
        }
      ]
    },
    {
      "cell_type": "code",
      "metadata": {
        "colab": {
          "base_uri": "https://localhost:8080/"
        },
        "id": "As_URb08ofj4",
        "outputId": "db387e83-e8c4-4cc7-85af-67785d61a68e"
      },
      "source": [
        "preds.shape"
      ],
      "execution_count": 34,
      "outputs": [
        {
          "output_type": "execute_result",
          "data": {
            "text/plain": [
              "(10000, 8)"
            ]
          },
          "metadata": {
            "tags": []
          },
          "execution_count": 34
        }
      ]
    },
    {
      "cell_type": "code",
      "metadata": {
        "id": "Plmh8zbIoMji"
      },
      "source": [
        "def get_word(n, tokenizer):\n",
        "      for word, index in tokenizer.word_index.items():\n",
        "          if index == n:\n",
        "              return word\n",
        "      return None"
      ],
      "execution_count": 35,
      "outputs": []
    },
    {
      "cell_type": "code",
      "metadata": {
        "id": "pYlss1gUomh-"
      },
      "source": [
        "preds_text = []\n",
        "for i in preds:\n",
        "       temp = []\n",
        "       for j in range(len(i)):\n",
        "            t = get_word(i[j], eng_tokenizer)\n",
        "            if j > 0:\n",
        "                if (t == get_word(i[j-1], eng_tokenizer)) or (t == None):\n",
        "                     temp.append('')\n",
        "                else:\n",
        "                     temp.append(t)\n",
        "            else:\n",
        "                   if (t == None):\n",
        "                          temp.append('')\n",
        "                   else:\n",
        "                          temp.append(t) \n",
        "\n",
        "       preds_text.append(' '.join(temp))\n"
      ],
      "execution_count": 36,
      "outputs": []
    },
    {
      "cell_type": "code",
      "metadata": {
        "colab": {
          "base_uri": "https://localhost:8080/",
          "height": 494
        },
        "id": "Sqkp2xUqo9jk",
        "outputId": "4c22bce1-c27a-410d-d8d1-c4a5d1da74ae"
      },
      "source": [
        "pred_df = pd.DataFrame({'actual' : test[:,0], 'predicted' : preds_text})\n",
        "pred_df.sample(15)"
      ],
      "execution_count": 37,
      "outputs": [
        {
          "output_type": "execute_result",
          "data": {
            "text/html": [
              "<div>\n",
              "<style scoped>\n",
              "    .dataframe tbody tr th:only-of-type {\n",
              "        vertical-align: middle;\n",
              "    }\n",
              "\n",
              "    .dataframe tbody tr th {\n",
              "        vertical-align: top;\n",
              "    }\n",
              "\n",
              "    .dataframe thead th {\n",
              "        text-align: right;\n",
              "    }\n",
              "</style>\n",
              "<table border=\"1\" class=\"dataframe\">\n",
              "  <thead>\n",
              "    <tr style=\"text-align: right;\">\n",
              "      <th></th>\n",
              "      <th>actual</th>\n",
              "      <th>predicted</th>\n",
              "    </tr>\n",
              "  </thead>\n",
              "  <tbody>\n",
              "    <tr>\n",
              "      <th>241</th>\n",
              "      <td>tom has a car</td>\n",
              "      <td>tom has a car</td>\n",
              "    </tr>\n",
              "    <tr>\n",
              "      <th>6150</th>\n",
              "      <td>they cannot stop me</td>\n",
              "      <td>you cant stop me</td>\n",
              "    </tr>\n",
              "    <tr>\n",
              "      <th>1765</th>\n",
              "      <td>dont be sad</td>\n",
              "      <td>dont cry</td>\n",
              "    </tr>\n",
              "    <tr>\n",
              "      <th>9738</th>\n",
              "      <td>my heart was racing</td>\n",
              "      <td>my life was racing</td>\n",
              "    </tr>\n",
              "    <tr>\n",
              "      <th>6722</th>\n",
              "      <td>i dont like liars</td>\n",
              "      <td>i dont like hungry</td>\n",
              "    </tr>\n",
              "    <tr>\n",
              "      <th>4213</th>\n",
              "      <td>he looked well</td>\n",
              "      <td>he got well</td>\n",
              "    </tr>\n",
              "    <tr>\n",
              "      <th>1454</th>\n",
              "      <td>ill bring it back</td>\n",
              "      <td>ill be it tomorrow</td>\n",
              "    </tr>\n",
              "    <tr>\n",
              "      <th>8758</th>\n",
              "      <td>why did you move out</td>\n",
              "      <td>why did you run</td>\n",
              "    </tr>\n",
              "    <tr>\n",
              "      <th>708</th>\n",
              "      <td>tom is undeterred</td>\n",
              "      <td>tom is available</td>\n",
              "    </tr>\n",
              "    <tr>\n",
              "      <th>7856</th>\n",
              "      <td>we know what you did</td>\n",
              "      <td>we know what you did</td>\n",
              "    </tr>\n",
              "    <tr>\n",
              "      <th>2495</th>\n",
              "      <td>im going to bed</td>\n",
              "      <td>im going to  sack</td>\n",
              "    </tr>\n",
              "    <tr>\n",
              "      <th>4717</th>\n",
              "      <td>were curious</td>\n",
              "      <td>were cold</td>\n",
              "    </tr>\n",
              "    <tr>\n",
              "      <th>8240</th>\n",
              "      <td>may i quote you</td>\n",
              "      <td>may i quote you</td>\n",
              "    </tr>\n",
              "    <tr>\n",
              "      <th>6087</th>\n",
              "      <td>tom is despondent</td>\n",
              "      <td>tom is deceitful</td>\n",
              "    </tr>\n",
              "    <tr>\n",
              "      <th>7276</th>\n",
              "      <td>do as he tells you</td>\n",
              "      <td>what  you tells</td>\n",
              "    </tr>\n",
              "  </tbody>\n",
              "</table>\n",
              "</div>"
            ],
            "text/plain": [
              "                    actual                predicted\n",
              "241          tom has a car        tom has a car    \n",
              "6150   they cannot stop me     you cant stop me    \n",
              "1765           dont be sad           dont cry      \n",
              "9738   my heart was racing   my life was racing    \n",
              "6722     i dont like liars   i dont like hungry    \n",
              "4213        he looked well         he got well     \n",
              "1454     ill bring it back   ill be it tomorrow    \n",
              "8758  why did you move out      why did you run    \n",
              "708      tom is undeterred    tom is available     \n",
              "7856  we know what you did  we know what you did   \n",
              "2495       im going to bed     im going to  sack   \n",
              "4717          were curious          were cold      \n",
              "8240       may i quote you      may i quote you    \n",
              "6087     tom is despondent    tom is deceitful     \n",
              "7276    do as he tells you      what  you tells    "
            ]
          },
          "metadata": {
            "tags": []
          },
          "execution_count": 37
        }
      ]
    }
  ]
}